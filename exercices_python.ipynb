{
 "cells": [
  {
   "cell_type": "code",
   "execution_count": 1,
   "id": "31d18cea",
   "metadata": {
    "ExecuteTime": {
     "end_time": "2022-09-16T07:56:18.261646Z",
     "start_time": "2022-09-16T07:56:18.244691Z"
    }
   },
   "outputs": [
    {
     "name": "stdout",
     "output_type": "stream",
     "text": [
      "<class 'str'>\n",
      "<class 'int'>\n",
      "<class 'float'>\n"
     ]
    }
   ],
   "source": [
    "#Exercice 1\n",
    "1. #Écrire un programme, qui définit 3 variables : une variable de type texte, une variable de type\n",
    "#nombre entier, une variable de type nombre décimal et qui affiche leur type.\n",
    "\n",
    "variable_texte = \"Je suis une variable contenant du texte\"\n",
    "variable_nombre_entier = 27\n",
    "variable_decimal = 3.9\n",
    "\n",
    "print(type(variable_texte))\n",
    "print(type(variable_nombre_entier))\n",
    "print(type(variable_decimal))"
   ]
  },
  {
   "cell_type": "code",
   "execution_count": 4,
   "id": "b24eabd1",
   "metadata": {
    "ExecuteTime": {
     "end_time": "2022-09-16T08:14:05.758213Z",
     "start_time": "2022-09-16T08:14:05.746206Z"
    }
   },
   "outputs": [],
   "source": [
    "#Exercice 2\n",
    "#Affecter dans une même ligne les 3 variables précédemment définies.\n",
    "\n",
    "variable_texte, variable_nombre_entier, variable_decimal = \"Je suis une variable contenant du texte\", 27, 3.9"
   ]
  },
  {
   "cell_type": "code",
   "execution_count": 15,
   "id": "9deec371",
   "metadata": {
    "ExecuteTime": {
     "end_time": "2022-09-16T09:47:50.413216Z",
     "start_time": "2022-09-16T09:47:42.567218Z"
    }
   },
   "outputs": [
    {
     "name": "stdout",
     "output_type": "stream",
     "text": [
      " Rentrer le rayon15\n",
      " Rentrer la hauteur19\n",
      "Le volume de la sphère est :  4476.77\n"
     ]
    }
   ],
   "source": [
    "#Exercice 3\n",
    "#Cet exercice est sans rapport avec le précédent …\n",
    "#Écrire un programme qui, à partir de la saisie d’un rayon et d’une hauteur, calcule le volume d’un\n",
    "#cône droit : V =1/3 * π×r² * h\n",
    "#Comparer la précision de calcul avec votre calculatrice ou celle de l’ordinateur.\n",
    "\n",
    "import math\n",
    "r = float(input( \" Rentrer le rayon\"))\n",
    "h = float(input( \" Rentrer la hauteur\"))\n",
    "V = round((1/3 *(math.pi)*r*r*h),3)\n",
    "print(f\"Le volume de la sphère est : \" , V)"
   ]
  },
  {
   "cell_type": "code",
   "execution_count": 14,
   "id": "7de1def6",
   "metadata": {
    "ExecuteTime": {
     "end_time": "2022-09-16T09:46:33.511906Z",
     "start_time": "2022-09-16T09:46:24.543916Z"
    }
   },
   "outputs": [
    {
     "name": "stdout",
     "output_type": "stream",
     "text": [
      "Rentrer le rayon exterieur: 18\n",
      "Rentrer le rayon interieur: 2\n",
      "la surface du disque est 1005.31\n"
     ]
    }
   ],
   "source": [
    "#Exercice 4\n",
    "# Une machine découpe dans une plaque, des disques circulaires de rayon rExt, percés d’un trou\n",
    "# circulaire de rayon rInt avec rInt < rExt et ne débordant pas du disque.\n",
    "#Quelle est la surface d’un disque découpé ?\n",
    "\n",
    "h = 1\n",
    "rExt = float(input(\"Rentrer le rayon exterieur: \"))\n",
    "rint = float(input(\"Rentrer le rayon interieur: \"))\n",
    "SEXT = round(math.pi*rExt*rExt,3)\n",
    "SinT = round(math.pi*rint*rint*h,3)\n",
    "S = SEXT - SinT\n",
    "print (f\"la surface du disque est\" , S)"
   ]
  },
  {
   "cell_type": "code",
   "execution_count": 12,
   "id": "e2fa2803",
   "metadata": {
    "ExecuteTime": {
     "end_time": "2022-09-16T11:19:59.693890Z",
     "start_time": "2022-09-16T11:19:59.675937Z"
    }
   },
   "outputs": [
    {
     "name": "stdout",
     "output_type": "stream",
     "text": [
      " Le chat  +  3\n"
     ]
    }
   ],
   "source": [
    "#Exercice 5\n",
    "#Écrire un programme, qui ajoute une chaîne de caractères à un nombre entier (Exemple la chaîne\n",
    "#”le chat” et le nombre 3 pour donner le chat + 3).\n",
    "chaine = \" Le chat\"\n",
    "nombre = 3\n",
    "print( chaine, \" + \", nombre)"
   ]
  },
  {
   "cell_type": "code",
   "execution_count": null,
   "id": "a512f746",
   "metadata": {},
   "outputs": [],
   "source": []
  }
 ],
 "metadata": {
  "kernelspec": {
   "display_name": "Python 3",
   "language": "python",
   "name": "python3"
  },
  "language_info": {
   "codemirror_mode": {
    "name": "ipython",
    "version": 3
   },
   "file_extension": ".py",
   "mimetype": "text/x-python",
   "name": "python",
   "nbconvert_exporter": "python",
   "pygments_lexer": "ipython3",
   "version": "3.8.8"
  },
  "toc": {
   "base_numbering": 1,
   "nav_menu": {},
   "number_sections": true,
   "sideBar": true,
   "skip_h1_title": false,
   "title_cell": "Table of Contents",
   "title_sidebar": "Contents",
   "toc_cell": false,
   "toc_position": {},
   "toc_section_display": true,
   "toc_window_display": false
  }
 },
 "nbformat": 4,
 "nbformat_minor": 5
}
