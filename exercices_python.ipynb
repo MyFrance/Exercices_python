{
 "cells": [
  {
   "cell_type": "code",
   "execution_count": 1,
   "id": "31d18cea",
   "metadata": {
    "ExecuteTime": {
     "end_time": "2022-09-21T08:22:37.280464Z",
     "start_time": "2022-09-21T08:22:37.263509Z"
    }
   },
   "outputs": [
    {
     "name": "stdout",
     "output_type": "stream",
     "text": [
      "<class 'str'>\n",
      "<class 'int'>\n",
      "<class 'float'>\n"
     ]
    }
   ],
   "source": [
    "#Exercice 1\n",
    "1. #Écrire un programme, qui définit 3 variables : une variable de type texte, une variable de type\n",
    "#nombre entier, une variable de type nombre décimal et qui affiche leur type.\n",
    "\n",
    "variable_texte = \"Je suis une variable contenant du texte\"\n",
    "variable_nombre_entier = 27\n",
    "variable_decimal = 3.9\n",
    "\n",
    "print(type(variable_texte))\n",
    "print(type(variable_nombre_entier))\n",
    "print(type(variable_decimal))"
   ]
  },
  {
   "cell_type": "code",
   "execution_count": 2,
   "id": "b24eabd1",
   "metadata": {
    "ExecuteTime": {
     "end_time": "2022-09-21T08:22:37.296421Z",
     "start_time": "2022-09-21T08:22:37.284454Z"
    }
   },
   "outputs": [],
   "source": [
    "#Exercice 2\n",
    "#Affecter dans une même ligne les 3 variables précédemment définies.\n",
    "\n",
    "variable_texte, variable_nombre_entier, variable_decimal = \"Je suis une variable contenant du texte\", 27, 3.9"
   ]
  },
  {
   "cell_type": "code",
   "execution_count": 3,
   "id": "9deec371",
   "metadata": {
    "ExecuteTime": {
     "end_time": "2022-09-21T08:22:43.563663Z",
     "start_time": "2022-09-21T08:22:37.301409Z"
    }
   },
   "outputs": [
    {
     "name": "stdout",
     "output_type": "stream",
     "text": [
      " Rentrer le rayon10\n",
      " Rentrer la hauteur15\n",
      "Le volume de la sphère est :  1570.796\n"
     ]
    }
   ],
   "source": [
    "#Exercice 3\n",
    "#Cet exercice est sans rapport avec le précédent …\n",
    "#Écrire un programme qui, à partir de la saisie d’un rayon et d’une hauteur, calcule le volume d’un\n",
    "#cône droit : V =1/3 * π×r² * h\n",
    "#Comparer la précision de calcul avec votre calculatrice ou celle de l’ordinateur.\n",
    "\n",
    "import math\n",
    "r = float(input( \" Rentrer le rayon\"))\n",
    "h = float(input( \" Rentrer la hauteur\"))\n",
    "V = round((1/3 *(math.pi)*r*r*h),3)\n",
    "print(f\"Le volume de la sphère est : \" , V)"
   ]
  },
  {
   "cell_type": "code",
   "execution_count": 4,
   "id": "7de1def6",
   "metadata": {
    "ExecuteTime": {
     "end_time": "2022-09-21T08:22:47.855187Z",
     "start_time": "2022-09-21T08:22:43.566655Z"
    }
   },
   "outputs": [
    {
     "name": "stdout",
     "output_type": "stream",
     "text": [
      "Rentrer le rayon exterieur: 10\n",
      "Rentrer le rayon interieur: 15\n",
      "la surface du disque est -392.699\n"
     ]
    }
   ],
   "source": [
    "#Exercice 4\n",
    "# Une machine découpe dans une plaque, des disques circulaires de rayon rExt, percés d’un trou\n",
    "# circulaire de rayon rInt avec rInt < rExt et ne débordant pas du disque.\n",
    "#Quelle est la surface d’un disque découpé ?\n",
    "import math\n",
    "h = 1\n",
    "rExt = float(input(\"Rentrer le rayon exterieur: \"))\n",
    "rint = float(input(\"Rentrer le rayon interieur: \"))\n",
    "SEXT = round(math.pi*rExt*rExt,3)\n",
    "SinT = round(math.pi*rint*rint*h,3)\n",
    "S = SEXT - SinT\n",
    "print (f\"la surface du disque est\" , round(S,3))"
   ]
  },
  {
   "cell_type": "code",
   "execution_count": 5,
   "id": "e2fa2803",
   "metadata": {
    "ExecuteTime": {
     "end_time": "2022-09-21T08:22:47.870147Z",
     "start_time": "2022-09-21T08:22:47.858181Z"
    }
   },
   "outputs": [
    {
     "name": "stdout",
     "output_type": "stream",
     "text": [
      " Le chat  +  3\n"
     ]
    }
   ],
   "source": [
    "#Exercice 5\n",
    "#Écrire un programme, qui ajoute une chaîne de caractères à un nombre entier (Exemple la chaîne\n",
    "#”le chat” et le nombre 3 pour donner le chat + 3).\n",
    "chaine = \" Le chat\"\n",
    "nombre = 3\n",
    "print( chaine, \" + \", nombre)"
   ]
  },
  {
   "cell_type": "code",
   "execution_count": 10,
   "id": "249eda1a",
   "metadata": {
    "ExecuteTime": {
     "end_time": "2022-09-21T08:24:36.550952Z",
     "start_time": "2022-09-21T08:24:32.109829Z"
    }
   },
   "outputs": [
    {
     "name": "stdout",
     "output_type": "stream",
     "text": [
      "Entrer le cote opposé:  12\n",
      "Entrer l'hypotenus:  18\n",
      "f l'angle du triangle rectangle est de :  41.81\n"
     ]
    }
   ],
   "source": [
    "#Exercice 6\n",
    "#Écrire un programme, qui donne la mesure de l’angle α d’un triangle rectangle, dont on saisit le\n",
    "#côté opposé et l’hypothénuse.\n",
    "#Rappel : sinφ = CoteOppose/Hypotenuse\n",
    "\n",
    "import math\n",
    "cote_oppose = float(input(\"Entrer le cote opposé:  \"))\n",
    "hypotenuse = float(input(\"Entrer l'hypotenus:  \"))\n",
    "omega = cote_oppose/hypotenuse\n",
    "print(\"f l'angle du triangle rectangle est de : \",round( math.degrees (math.asin(omega)),3))"
   ]
  },
  {
   "cell_type": "code",
   "execution_count": 11,
   "id": "ec5387e7",
   "metadata": {
    "ExecuteTime": {
     "end_time": "2022-09-21T08:24:55.708727Z",
     "start_time": "2022-09-21T08:24:46.750680Z"
    }
   },
   "outputs": [
    {
     "name": "stdout",
     "output_type": "stream",
     "text": [
      "Saisir un nombre : 16\n",
      "<class 'str'>\n"
     ]
    }
   ],
   "source": [
    "#Exercice 7\n",
    "#Écrire un programme qui réalise la saisie d’un nombre entier puis affiche la valeur ainsi saisie et son\n",
    "#type\n",
    "nombre = input(\"Saisir un nombre : \")\n",
    "print(type(nombre))"
   ]
  },
  {
   "cell_type": "code",
   "execution_count": 12,
   "id": "39d9f1a5",
   "metadata": {
    "ExecuteTime": {
     "end_time": "2022-09-21T08:25:18.543668Z",
     "start_time": "2022-09-21T08:25:03.288460Z"
    }
   },
   "outputs": [
    {
     "name": "stdout",
     "output_type": "stream",
     "text": [
      "saisir valeur 1 : 10\n",
      "saisir valeur 2 : 23\n",
      " La valeur 1 est la plus petit\n"
     ]
    }
   ],
   "source": [
    "#Exercice 7\n",
    "#Écrire un programme min_max.py, qui demande de saisir 2 valeurs et qui affiche la plus petite des 2\n",
    "#valeurs.\n",
    "valeur_1 = int(input(\"saisir valeur 1 : \"))\n",
    "valeur_2 = int(input(\"saisir valeur 2 : \"))\n",
    "\n",
    "if (valeur_1 < valeur_2):\n",
    "    print(\" La valeur 1 est la plus petit\")\n",
    "else:\n",
    "    print(\"\\nLa valeur 2 est la plus petite\")"
   ]
  },
  {
   "cell_type": "code",
   "execution_count": 13,
   "id": "df14b2a9",
   "metadata": {
    "ExecuteTime": {
     "end_time": "2022-09-21T08:25:52.244554Z",
     "start_time": "2022-09-21T08:25:24.775005Z"
    }
   },
   "outputs": [
    {
     "name": "stdout",
     "output_type": "stream",
     "text": [
      "entrer une chaine de caractère : longeur\n",
      "entrer une chaine de caractère : bonjour \n",
      "La chaine 2 est plus petite que la chaine 1\n"
     ]
    }
   ],
   "source": [
    "#Exercice 8\n",
    "#. Écrire un script longeur_chaine.py, qui demande de saisir 2 chaînes de caractères et qui affiche la\n",
    "#plus grande des 2 chaînes (celle qui a le plus de caractères).\n",
    "chaine_1 = str(input(\"entrer une chaine de caractère : \"))\n",
    "chaine_2 = str(input(\"entrer une chaine de caractère : \"))\n",
    "longueur_chaine1 = len(chaine_1)\n",
    "longueur_chaine2 = len(chaine_2)\n",
    "\n",
    "if len(chaine_1) > len(chaine_2):\n",
    "    print (\"La chaine 1 est plus grande que la chaine 2\")\n",
    "else: \n",
    "    print(\"La chaine 2 est plus petite que la chaine 1\")"
   ]
  },
  {
   "cell_type": "code",
   "execution_count": 15,
   "id": "6a98fc42",
   "metadata": {
    "ExecuteTime": {
     "end_time": "2022-09-21T08:26:14.575845Z",
     "start_time": "2022-09-21T08:26:14.564873Z"
    }
   },
   "outputs": [
    {
     "name": "stdout",
     "output_type": "stream",
     "text": [
      "je dois ranger mon bureau\n",
      "je dois ranger mon bureau\n",
      "je dois ranger mon bureau\n",
      "je dois ranger mon bureau\n",
      "je dois ranger mon bureau\n",
      "je dois ranger mon bureau\n",
      "je dois ranger mon bureau\n",
      "je dois ranger mon bureau\n",
      "je dois ranger mon bureau\n"
     ]
    }
   ],
   "source": [
    "#Exercice 9\n",
    "#Écrire un programme, qui affiche 10 fois ”Je dois ranger mon bureau” à l’aide de l’instruction for \n",
    "for i in range(1,10):\n",
    "    print(\"je dois ranger mon bureau\")\n",
    "    "
   ]
  },
  {
   "cell_type": "code",
   "execution_count": 16,
   "id": "e567fd71",
   "metadata": {
    "ExecuteTime": {
     "end_time": "2022-09-21T08:26:19.155599Z",
     "start_time": "2022-09-21T08:26:19.135651Z"
    }
   },
   "outputs": [
    {
     "data": {
      "text/plain": [
       "'c*h*a*n*t*e*r* *s*u*r* *u*n* *a*i*r* *d*e* *m*o*z*a*r*t'"
      ]
     },
     "execution_count": 16,
     "metadata": {},
     "output_type": "execute_result"
    }
   ],
   "source": [
    "#Exercice 10\n",
    "\n",
    "#Écrivez un script qui recopie une chaîne (dans une nouvelle variable), en insérant des astérisques entre les caractères.\n",
    "#Par exemple, « gaston » devra devenir « g*a*s*t*o*n »\n",
    "\n",
    "chaine = \"chanter sur un air de mozart\"\n",
    "\"*\".join(chaine)"
   ]
  },
  {
   "cell_type": "code",
   "execution_count": 17,
   "id": "a12685f9",
   "metadata": {
    "ExecuteTime": {
     "end_time": "2022-09-21T08:26:30.482311Z",
     "start_time": "2022-09-21T08:26:30.464359Z"
    }
   },
   "outputs": [
    {
     "data": {
      "text/plain": [
       "'bulgroz'"
      ]
     },
     "execution_count": 17,
     "metadata": {},
     "output_type": "execute_result"
    }
   ],
   "source": [
    "#Exercice 11\n",
    "\n",
    "#Écrivez un script qui recopie une chaîne (dans une nouvelle variable) en l'inversant. Par exemple, « zorglub » deviendra « bulgroz ».\n",
    "chaine = \"zorglub\"\n",
    "#reversed(chaine)\n",
    "\"\".join(reversed(chaine))"
   ]
  },
  {
   "cell_type": "code",
   "execution_count": 18,
   "id": "b2685b32",
   "metadata": {
    "ExecuteTime": {
     "end_time": "2022-09-21T08:26:47.205595Z",
     "start_time": "2022-09-21T08:26:47.189637Z"
    }
   },
   "outputs": [
    {
     "name": "stdout",
     "output_type": "stream",
     "text": [
      "010\n"
     ]
    }
   ],
   "source": [
    "#Exercice 12\n",
    "#pour utiliser le zfill il faut que la chaine soit un string\n",
    "chaine = \"10\"\n",
    "print(chaine.zfill(3))"
   ]
  },
  {
   "cell_type": "code",
   "execution_count": 19,
   "id": "de27b2c3",
   "metadata": {
    "ExecuteTime": {
     "end_time": "2022-09-21T08:27:01.850437Z",
     "start_time": "2022-09-21T08:26:54.062260Z"
    }
   },
   "outputs": [
    {
     "name": "stdout",
     "output_type": "stream",
     "text": [
      "Donnez la valeur de l'angle en degré: 45\n",
      "Donnez la valeur en minutes: 45\n",
      "Donnez la valeur en seconde: 45\n",
      "\n",
      "La conversion de 45 ° 45 min 45 sec donne 0.799 radian\n"
     ]
    }
   ],
   "source": [
    "#Exercice13\n",
    "#Écrivez un programme qui convertit en radians un angle fourni au départ en degrés, minutes, secondes.\n",
    "# On sait que un radian = 360°/2pi soit 180° /pi\n",
    "import math\n",
    "\n",
    "angle = int(input(\"Donnez la valeur de l'angle en degré: \"))\n",
    "minutes = int(input(\"Donnez la valeur en minutes: \"))\n",
    "secondes = int(input(\"Donnez la valeur en seconde: \"))\n",
    "\n",
    "#Conversions \n",
    "#1- convertir les secondes en minutes\n",
    "seconde_en_minute = secondes/60\n",
    "#2- convertir les minutes en angle\n",
    "minutes_en_angle = (seconde_en_minute + minutes)/60\n",
    "#3- angle en degré\n",
    "angle_en_degre = angle + minutes_en_angle\n",
    "\n",
    "# convertir les angles en radian\n",
    "#on sait que:\n",
    "# radian = 180/math.pi\n",
    "# angle_en_radian = angle_en_degre/radian\n",
    "\n",
    "#ou on peut utliser directement la fonction radians qui convertit les degrés en radian\n",
    "angle_en_radian = math.radians(angle_en_degre)\n",
    "\n",
    "print(f\"\\nLa conversion de\", angle,\"°\",minutes,\"min\",secondes,\"sec\",  \"donne\", round(angle_en_radian,3),\"radian\" )"
   ]
  },
  {
   "cell_type": "code",
   "execution_count": 20,
   "id": "9691d34c",
   "metadata": {
    "ExecuteTime": {
     "end_time": "2022-09-21T08:27:08.874654Z",
     "start_time": "2022-09-21T08:27:08.863682Z"
    }
   },
   "outputs": [
    {
     "data": {
      "text/plain": [
       "3"
      ]
     },
     "execution_count": 20,
     "metadata": {},
     "output_type": "execute_result"
    }
   ],
   "source": [
    "# Exercice14\n",
    "# Écrire une fonction nombre_chiffres prenant en paramètre deux entiers positifs nombre et chiffre, ce dernier étant compris entre 0 et 9.\n",
    "# La fonction doit renvoyer le nombre de fois où apparait le chiffre dans la composition du nombre.\n",
    "\n",
    "# >>> nombre_chiffres(111222, 2) \n",
    "# 3 \n",
    "# >>> nombre_chiffres(100000, 0) \n",
    "# 5 \n",
    "# >>> nombre_chiffres(65535, 5) \n",
    "# 3 \n",
    "# >>> nombre_chiffres(31415927, 8) \n",
    "# 0 \n",
    "# >>> nombre_chiffres(5, 5) \n",
    "# 1 \n",
    "# >>> nombre_chiffres(0, 0) \n",
    "# 1\n",
    "\n",
    "\n",
    "def nombre_chiffres(nombre, chiffre):\n",
    "    return str(nombre).count(str(chiffre))\n",
    "\n",
    "# Combien de fois apparait le chiffre 5 dans ce nombre\n",
    "nombre_chiffres(65535, 5) "
   ]
  },
  {
   "cell_type": "code",
   "execution_count": 21,
   "id": "6b72c2df",
   "metadata": {
    "ExecuteTime": {
     "end_time": "2022-09-21T08:27:13.003613Z",
     "start_time": "2022-09-21T08:27:12.982669Z"
    }
   },
   "outputs": [
    {
     "name": "stdout",
     "output_type": "stream",
     "text": [
      "2 + 3 + 4\n"
     ]
    }
   ],
   "source": [
    "#Exercice14\n",
    "a = 2\n",
    "b = 3\n",
    "c = 4\n",
    "print((\" + \").join(str(a) + str(b) + str(c)))"
   ]
  },
  {
   "cell_type": "code",
   "execution_count": 22,
   "id": "5ea19feb",
   "metadata": {
    "ExecuteTime": {
     "end_time": "2022-09-21T08:27:15.787171Z",
     "start_time": "2022-09-21T08:27:15.774204Z"
    }
   },
   "outputs": [
    {
     "name": "stdout",
     "output_type": "stream",
     "text": [
      "4\n"
     ]
    }
   ],
   "source": [
    "#Exercice15\n",
    "lettre_a_chercher = \"o\"\n",
    "phrase = \"Bonjour tout le monde\"\n",
    "resultat = phrase.lower().count(lettre_a_chercher)\n",
    "print(resultat)"
   ]
  },
  {
   "cell_type": "code",
   "execution_count": 23,
   "id": "386e619d",
   "metadata": {
    "ExecuteTime": {
     "end_time": "2022-09-21T08:27:21.304417Z",
     "start_time": "2022-09-21T08:27:21.286466Z"
    }
   },
   "outputs": [
    {
     "name": "stdout",
     "output_type": "stream",
     "text": [
      "4\n"
     ]
    }
   ],
   "source": [
    "#Exercice16\n",
    "lorem = \"\"\"Lorem ipsum dolor sit amet, consectetur adipiscing elit, sed do eiusmod tempor incididunt ut labore et dolore magna aliqua.\n",
    "\t\t   Ut enim ad minim veniam, quis nostrud exercitation ullamco laboris nisi ut aliquip ex ea commodo consequat.\n",
    "\t\t   Duis aute irure dolor in reprehenderit in voluptate velit esse cillum dolore eu fugiat nulla pariatur.\n",
    "\t\t   Excepteur sint occaecat cupidatat non proident, sunt in culpa qui officia deserunt mollit anim id est laborum.\"\"\"\n",
    "\t\t   \n",
    "resultat = lorem.count(\".\")\n",
    "print(resultat)"
   ]
  },
  {
   "cell_type": "code",
   "execution_count": 24,
   "id": "80575a94",
   "metadata": {
    "ExecuteTime": {
     "end_time": "2022-09-21T08:27:24.180727Z",
     "start_time": "2022-09-21T08:27:24.166764Z"
    }
   },
   "outputs": [
    {
     "name": "stdout",
     "output_type": "stream",
     "text": [
      "Anne, Julien, Lucien, Marie, Pierre\n"
     ]
    }
   ],
   "source": [
    "#Exercice17\n",
    "# Le but de cet exercice et de remettre en ordre alphabétique les prénoms présents dans la chaîne de caractères.\n",
    "\n",
    "# Vous devez créer une variable chaine_en_ordre qui, à la fin de l'exercice, doit contenir la chaîne de caractères suivante :\n",
    "\n",
    "# Anne, Julien, Lucien, Marie, Pierre\n",
    "\n",
    "chaine = \"Pierre, Julien, Anne, Marie, Lucien\"\n",
    "#resultat = sorted(chaine.split(\", \"))\n",
    "resultat = \", \".join(sorted(chaine.split(\", \")))\n",
    "print(resultat)"
   ]
  },
  {
   "cell_type": "code",
   "execution_count": 25,
   "id": "a287c02d",
   "metadata": {
    "ExecuteTime": {
     "end_time": "2022-09-21T08:27:39.673301Z",
     "start_time": "2022-09-21T08:27:39.663328Z"
    }
   },
   "outputs": [
    {
     "name": "stdout",
     "output_type": "stream",
     "text": [
      "https://www.docstring.fr/glossaire/\n"
     ]
    }
   ],
   "source": [
    "#Exercice18\n",
    "#Dans cet exercice, vous devez recréer l'URL du site https://www.docstring.fr/glossaire/ \n",
    "#grâce aux différents variables et à l'aide d'une f-string.\n",
    "# Ne modifiez pas les variables ci-dessous\n",
    "\n",
    "protocole = \"https://\"\n",
    "nom_du_site = \"docstring\"\n",
    "extension = \"fr\"\n",
    "page = \"glossaire\"\n",
    "\n",
    "# Modifiez le code à partir d'ici \n",
    "URL = protocole + \"www.\" + nom_du_site + \".\" + extension +\"/\" + page +\"/\"\n",
    "print(URL)"
   ]
  },
  {
   "cell_type": "code",
   "execution_count": 26,
   "id": "d46c4918",
   "metadata": {
    "ExecuteTime": {
     "end_time": "2022-09-21T08:27:42.417963Z",
     "start_time": "2022-09-21T08:27:42.407989Z"
    }
   },
   "outputs": [
    {
     "name": "stdout",
     "output_type": "stream",
     "text": [
      "10\n"
     ]
    }
   ],
   "source": [
    "# exercice19\n",
    "#générer de façon alléatoire les nombres entiers compris entre 3 et 11\n",
    "\n",
    "#pour cela on va faire appel à la fonction au module ranrom et à la fonction randint\n",
    "import random\n",
    "\n",
    "a = random.randint(3,11)\n",
    "print(a)\n",
    "\n"
   ]
  },
  {
   "cell_type": "code",
   "execution_count": 27,
   "id": "c5ef72f4",
   "metadata": {
    "ExecuteTime": {
     "end_time": "2022-09-21T08:27:46.211818Z",
     "start_time": "2022-09-21T08:27:46.198854Z"
    }
   },
   "outputs": [
    {
     "name": "stdout",
     "output_type": "stream",
     "text": [
      "3.7109454372724358\n"
     ]
    }
   ],
   "source": [
    "#exercice20\n",
    "# Génération de façon alléatoire des nombres décimaux compris entre 3 et 11\n",
    "import random\n",
    "# Pour cela on va utiliser la fonction uniform()\n",
    "b = random.uniform(3,11)\n",
    "print(b)\n"
   ]
  },
  {
   "cell_type": "code",
   "execution_count": 28,
   "id": "142380da",
   "metadata": {
    "ExecuteTime": {
     "end_time": "2022-09-21T08:27:57.013934Z",
     "start_time": "2022-09-21T08:27:56.998974Z"
    }
   },
   "outputs": [
    {
     "name": "stdout",
     "output_type": "stream",
     "text": [
      "5\n"
     ]
    }
   ],
   "source": [
    "#exercice21\n",
    "# Génération de façon alléatoire des nombres entierscompris entre 3 et 11 avec un pas de 2\n",
    "#pour cela on va utiliser la fonction randrange() jusqu'à 12 pour avoir le 11 inclus\n",
    "\n",
    "c= random.randrange(3,12,2)\n",
    "print(c)"
   ]
  },
  {
   "cell_type": "code",
   "execution_count": 29,
   "id": "2348d41f",
   "metadata": {
    "ExecuteTime": {
     "end_time": "2022-09-21T08:27:59.210061Z",
     "start_time": "2022-09-21T08:27:59.191114Z"
    }
   },
   "outputs": [
    {
     "name": "stdout",
     "output_type": "stream",
     "text": [
      "Le nombre b est plus grand que le nombre a.\n"
     ]
    }
   ],
   "source": [
    "#exercice22\n",
    "# Dans cet exercice, vous devez générer deux nombres aléatoires et indiquer à l'utilisateur lequel des deux nombres \n",
    "# est le plus grand.\n",
    "\n",
    "\n",
    "# Votre script doit afficher la phrase suivante :\n",
    "\n",
    "# \"Le nombre b est plus grand que le nombre a.\"\n",
    "\n",
    "# Dans le cas contraire, le script devra afficher :\n",
    "\n",
    "# \"Le nombre a est plus grand que le nombre b.\"\n",
    "\n",
    "# Si les nombres sont égaux, le script devra afficher :\n",
    "\n",
    "# \"Le nombre a et le nombre b sont égaux.\"\n",
    "\n",
    "# Les deux nombres générés aléatoirement peuvent être des nombres entier ou des nombres décimaux,\n",
    "# cela n'a pas d'importance. Vous pouvez également choisir n'importe quel intervalle pour générer votre nombre aléatoire.\n",
    "\n",
    "\n",
    "a = random.randint(5,30)\n",
    "b = random.uniform(0,25)\n",
    "\n",
    "if b > a: \n",
    "    print(\"Le nombre b est plus grand que le nombre a.\")\n",
    "elif a > b: \n",
    "    print(\"Le nombre a est plus grand que le nombre b.\")\n",
    "elif a ==b: \n",
    "    print(\"Le nombre a et le nombre b sont égaux.\")"
   ]
  },
  {
   "cell_type": "code",
   "execution_count": 30,
   "id": "39865164",
   "metadata": {
    "ExecuteTime": {
     "end_time": "2022-09-21T08:28:09.837644Z",
     "start_time": "2022-09-21T08:28:09.823682Z"
    }
   },
   "outputs": [],
   "source": [
    "#exercice23\n",
    "# Utilisation dela fonction os \n",
    "import os \n",
    "\n",
    "chemin = (r\"C:\\Users\\Utilisateur\\Desktop\\VDE\\python\")\n",
    "dossier = os.path.join(chemin, \"dossier\", \"test\") #On récupère le chemin complet du dossier\n",
    "# on va ensuite créer le dossier\n",
    "\n",
    "if not os.path.exists(dossier):\n",
    "    os.makedirs(dossier) # Création d'un dossier nommer dossier à l'intérieur duquel on a un autre dossier test\n",
    "# on peut aussi faire: \n",
    "#os.makedirs(dossier, exist_ok = True)\n",
    "\n",
    "# pour Supprimer un dossier \n",
    "#on va faire: \n",
    "# if os.path.exists(dossier):\n",
    "#     os.removedirs(dossier)"
   ]
  },
  {
   "cell_type": "code",
   "execution_count": 31,
   "id": "f9a5de28",
   "metadata": {
    "ExecuteTime": {
     "end_time": "2022-09-21T08:28:25.362135Z",
     "start_time": "2022-09-21T08:28:25.352160Z"
    }
   },
   "outputs": [
    {
     "name": "stdout",
     "output_type": "stream",
     "text": [
      "['BPF', 'LOG4', 'NV_MAGICCONST', 'RECIP_BPF', 'Random', 'SG_MAGICCONST', 'SystemRandom', 'TWOPI', '_Sequence', '_Set', '__all__', '__builtins__', '__cached__', '__doc__', '__file__', '__loader__', '__name__', '__package__', '__spec__', '_accumulate', '_acos', '_bisect', '_ceil', '_cos', '_e', '_exp', '_inst', '_log', '_os', '_pi', '_random', '_repeat', '_sha512', '_sin', '_sqrt', '_test', '_test_generator', '_urandom', '_warn', 'betavariate', 'choice', 'choices', 'expovariate', 'gammavariate', 'gauss', 'getrandbits', 'getstate', 'lognormvariate', 'normalvariate', 'paretovariate', 'randint', 'random', 'randrange', 'sample', 'seed', 'setstate', 'shuffle', 'triangular', 'uniform', 'vonmisesvariate', 'weibullvariate']\n"
     ]
    }
   ],
   "source": [
    "#Exercice24\n",
    "#Comment rechercher de l'aide pour la fonction random par exemple?\n",
    "import random\n",
    "print(dir(random)) \n",
    "\n",
    "# la fonction du=dir va nous afficher toute l'aide que nous avons besoin sur le module random. \n",
    "#ici par exemple les fonction qui commence avec __Nom__ on il ne faut pas le prendre car reserver pour python\n",
    "#nous avons déja par exemple vue les fonctions \"randint\", \"uniform\", \"randrange\""
   ]
  },
  {
   "cell_type": "code",
   "execution_count": 32,
   "id": "55460868",
   "metadata": {
    "ExecuteTime": {
     "end_time": "2022-09-21T08:28:29.159980Z",
     "start_time": "2022-09-21T08:28:29.151004Z"
    }
   },
   "outputs": [
    {
     "name": "stdout",
     "output_type": "stream",
     "text": [
      "Help on method randint in module random:\n",
      "\n",
      "randint(a, b) method of random.Random instance\n",
      "    Return random integer in range [a, b], including both end points.\n",
      "\n"
     ]
    }
   ],
   "source": [
    "#exercice25\n",
    "#Rechercher de l'aide avec la fonction help\n",
    "help(random.randint)"
   ]
  },
  {
   "cell_type": "code",
   "execution_count": 33,
   "id": "a7de0ce0",
   "metadata": {
    "ExecuteTime": {
     "end_time": "2022-09-21T08:28:30.985100Z",
     "start_time": "2022-09-21T08:28:30.975124Z"
    }
   },
   "outputs": [
    {
     "name": "stdout",
     "output_type": "stream",
     "text": [
      "['BPF',\n",
      " 'LOG4',\n",
      " 'NV_MAGICCONST',\n",
      " 'RECIP_BPF',\n",
      " 'Random',\n",
      " 'SG_MAGICCONST',\n",
      " 'SystemRandom',\n",
      " 'TWOPI',\n",
      " '_Sequence',\n",
      " '_Set',\n",
      " '__all__',\n",
      " '__builtins__',\n",
      " '__cached__',\n",
      " '__doc__',\n",
      " '__file__',\n",
      " '__loader__',\n",
      " '__name__',\n",
      " '__package__',\n",
      " '__spec__',\n",
      " '_accumulate',\n",
      " '_acos',\n",
      " '_bisect',\n",
      " '_ceil',\n",
      " '_cos',\n",
      " '_e',\n",
      " '_exp',\n",
      " '_inst',\n",
      " '_log',\n",
      " '_os',\n",
      " '_pi',\n",
      " '_random',\n",
      " '_repeat',\n",
      " '_sha512',\n",
      " '_sin',\n",
      " '_sqrt',\n",
      " '_test',\n",
      " '_test_generator',\n",
      " '_urandom',\n",
      " '_warn',\n",
      " 'betavariate',\n",
      " 'choice',\n",
      " 'choices',\n",
      " 'expovariate',\n",
      " 'gammavariate',\n",
      " 'gauss',\n",
      " 'getrandbits',\n",
      " 'getstate',\n",
      " 'lognormvariate',\n",
      " 'normalvariate',\n",
      " 'paretovariate',\n",
      " 'randint',\n",
      " 'random',\n",
      " 'randrange',\n",
      " 'sample',\n",
      " 'seed',\n",
      " 'setstate',\n",
      " 'shuffle',\n",
      " 'triangular',\n",
      " 'uniform',\n",
      " 'vonmisesvariate',\n",
      " 'weibullvariate']\n"
     ]
    }
   ],
   "source": [
    "#exercice26\n",
    "#utilisation de la fonction pprint\n",
    "#elle permet de faire un meilleur affichage ligne par ligne de chaque focntion \n",
    "# ne fonction qu'avec la fonction dir\n",
    "from pprint import pprint\n",
    "pprint(dir(random)) "
   ]
  },
  {
   "cell_type": "code",
   "execution_count": 34,
   "id": "be75b797",
   "metadata": {
    "ExecuteTime": {
     "end_time": "2022-09-21T08:28:34.792917Z",
     "start_time": "2022-09-21T08:28:34.774966Z"
    }
   },
   "outputs": [
    {
     "name": "stdout",
     "output_type": "stream",
     "text": [
      "['Lille', 'Lyon']\n"
     ]
    }
   ],
   "source": [
    "#exercice27\n",
    "# Supprimer Paris de la liste \n",
    "villes = ['Paris', 'Lille', 'Lyon']\n",
    "del villes[0]\n",
    "print(villes)\n"
   ]
  },
  {
   "cell_type": "code",
   "execution_count": 35,
   "id": "a7a9f51a",
   "metadata": {
    "ExecuteTime": {
     "end_time": "2022-09-21T08:28:41.084094Z",
     "start_time": "2022-09-21T08:28:41.072127Z"
    }
   },
   "outputs": [],
   "source": [
    "#exercice28\n",
    "#Utilisation de del\n",
    "ville = ['Paris', 'Lille', 'Lyon']\n",
    "del ville\n",
    "#print(ville)"
   ]
  },
  {
   "cell_type": "code",
   "execution_count": 36,
   "id": "63ad9b83",
   "metadata": {
    "ExecuteTime": {
     "end_time": "2022-09-21T08:28:51.563074Z",
     "start_time": "2022-09-21T08:28:51.551106Z"
    }
   },
   "outputs": [
    {
     "name": "stdout",
     "output_type": "stream",
     "text": [
      "Les villes restantes dans la liste :  ['Paris', 'Lyon']\n",
      "Ville récupérée:  Lille\n"
     ]
    }
   ],
   "source": [
    "#exercice29\n",
    "#Utilisation de pop\n",
    "ville = ['Paris', 'Lille', 'Lyon']\n",
    "ma_ville = ville.pop(1)\n",
    "print(f\"Les villes restantes dans la liste : \", ville)\n",
    "print(f\"Ville récupérée: \" , ma_ville)"
   ]
  },
  {
   "cell_type": "code",
   "execution_count": 37,
   "id": "5579b431",
   "metadata": {
    "ExecuteTime": {
     "end_time": "2022-09-21T08:28:58.658104Z",
     "start_time": "2022-09-21T08:28:58.639154Z"
    }
   },
   "outputs": [
    {
     "name": "stdout",
     "output_type": "stream",
     "text": [
      "['Lille', 'Lyon', 'Paris', 'Paris']\n"
     ]
    }
   ],
   "source": [
    "# exercice30\n",
    "# Utilisation de remove\n",
    "#remove enlève seulement la première occurence, si on veut enlever tous les paris, il faut faire 3 revome\n",
    "ville = ['Paris', 'Lille', 'Lyon', 'Paris', 'Paris']\n",
    "ville.remove('Paris')\n",
    "print(ville)"
   ]
  },
  {
   "cell_type": "code",
   "execution_count": 38,
   "id": "29122a83",
   "metadata": {
    "ExecuteTime": {
     "end_time": "2022-09-21T08:29:01.033751Z",
     "start_time": "2022-09-21T08:29:01.022781Z"
    }
   },
   "outputs": [
    {
     "name": "stdout",
     "output_type": "stream",
     "text": [
      "1\n",
      "1\n",
      "Python\n",
      "['Java', 'C++', 'Python']\n"
     ]
    }
   ],
   "source": [
    "#exercice32\n",
    "# Récupérez le premier et le dernier nombre contenus dans cette liste dans les variables\n",
    "#'nombre_premier' et 'nombre_dernier'.\n",
    "nombres = [1, 2, 3, 4, 5, 4, 3, 2, 1]\n",
    "nombre_premier = nombres[0]\n",
    "nombre_dernier = nombres[-1]\n",
    "\n",
    "# Récupérer l'élément 'Python' contenu dans la liste dans la variable 'langage'.\n",
    "langages = [\"Java\", \"Python\", \"C++\"]\n",
    "langage = langages.pop(1)\n",
    "# inverser la position de python avec c++\n",
    "liste = [\"Java\", \"Python\", \"C++\"]\n",
    "liste.remove(\"Python\")\n",
    "liste.append(\"Python\")\n",
    "\n",
    "\n",
    "print(nombre_premier)\n",
    "print(nombre_dernier)\n",
    "print(langage)\n",
    "print(liste)\n"
   ]
  },
  {
   "cell_type": "code",
   "execution_count": 39,
   "id": "d98c5ed0",
   "metadata": {
    "ExecuteTime": {
     "end_time": "2022-09-21T08:29:05.576604Z",
     "start_time": "2022-09-21T08:29:05.566631Z"
    }
   },
   "outputs": [
    {
     "name": "stdout",
     "output_type": "stream",
     "text": [
      "Les trois premiers:  ['Maxime', 'Martine', 'Christopher']\n",
      "Les trois derniers:  ['Carlos', 'Michael', 'Eric']\n",
      "Les employers du milieu sauf le premier et le dernier:  ['Martine', 'Christopher', 'Carlos', 'Michael']\n",
      "Le premier et le dernier:  ['Maxime', 'Eric']\n"
     ]
    }
   ],
   "source": [
    "#exercice33\n",
    "#Dans cet exercice, vous devez récupérer différents morceaux d'une liste grâce aux slices.\n",
    "\n",
    "liste = [\"Maxime\", \"Martine\", \"Christopher\", \"Carlos\", \"Michael\", \"Eric\"]\n",
    "\n",
    "trois_premiers =liste[:3] #Les trois premiers employés (\"Maxime\", \"Martine\" et \"Christopher\")\n",
    "trois_derniers =liste[3:] # Les trois derniers employés (\"Carlos\", \"Michael\" et \"Éric\") \n",
    "milieu = liste[1:-1] # Tous les employés sauf le premier et le dernier dans une liste milieu\n",
    "premier_dernier = liste[::5]  # Le premier et le dernier employé dans une liste premier_dernier\n",
    "\n",
    "print(f\"Les trois premiers: \", trois_premiers)\n",
    "print(f\"Les trois derniers: \",  trois_derniers)\n",
    "print(f\"Les employers du milieu sauf le premier et le dernier: \", milieu)\n",
    "print(f\"Le premier et le dernier: \", premier_dernier)"
   ]
  },
  {
   "cell_type": "code",
   "execution_count": 40,
   "id": "37ea669d",
   "metadata": {
    "ExecuteTime": {
     "end_time": "2022-09-21T08:29:10.404695Z",
     "start_time": "2022-09-21T08:29:10.383749Z"
    }
   },
   "outputs": [
    {
     "name": "stdout",
     "output_type": "stream",
     "text": [
      "[1, 2, 3, 4, 5, 6]\n",
      "True\n"
     ]
    }
   ],
   "source": [
    "#exercice34\n",
    "# Vérifier qu'un élément est dans une liste\n",
    "# Dans cet exercice, vous devez :\n",
    "\n",
    "# Ajouter le nombre 6 dans la liste.\n",
    "\n",
    "# Faire une vérification par la suite pour vous assurer que l'élément a bien été ajouté.\n",
    "\n",
    "# La liste de départ est la suivante \n",
    "liste = [1, 2, 3, 4, 5]\n",
    "liste.append(6)\n",
    "print(liste)\n",
    "\n",
    "#Vérificaion de 6 est bien dans la liste \n",
    "if 6 in liste:\n",
    "    print(True)\n"
   ]
  },
  {
   "cell_type": "code",
   "execution_count": 41,
   "id": "8de74b24",
   "metadata": {
    "ExecuteTime": {
     "end_time": "2022-09-21T08:29:13.638049Z",
     "start_time": "2022-09-21T08:29:13.623088Z"
    }
   },
   "outputs": [
    {
     "name": "stdout",
     "output_type": "stream",
     "text": [
      "Java\n",
      "c\n"
     ]
    }
   ],
   "source": [
    "#exercice35\n",
    "#listes imbriquées\n",
    "liste = [\"Python\", [\"Java\", \"C++\", [\"c\"]], \"Ruby\"]\n",
    "liste_1=liste[1][0] # Récupérer Java\n",
    "liste_2 = liste[1][2][0] #Récupérer C\n",
    "\n",
    "print(liste_1)\n",
    "print(liste_2)"
   ]
  },
  {
   "cell_type": "code",
   "execution_count": 42,
   "id": "7a53cad2",
   "metadata": {
    "ExecuteTime": {
     "end_time": "2022-09-21T08:29:16.686896Z",
     "start_time": "2022-09-21T08:29:16.662959Z"
    }
   },
   "outputs": [
    {
     "name": "stdout",
     "output_type": "stream",
     "text": [
      "Python\n",
      "2\n",
      "7\n"
     ]
    }
   ],
   "source": [
    "# exercice35\n",
    "# Dans cet exercice, vous allez devoir récupérer des informations à l'intérieur de listes imbriquées.\n",
    "\n",
    "# Le script dispose de deux listes contenant plusieurs listes imbriquées, une liste langages et une liste nombres.\n",
    "\n",
    "# Vous devez récupérer dans les variables python, deux et sept, respectivement la chaîne de caractères 'Python'\n",
    "#contenue dans la liste langages et les nombres 2 et 7, contenus dans la liste nombres.\n",
    "\n",
    "# Vous n'avez pas besoin d'afficher les variables avec print, il suffit de récupérer les bonnes valeurs \n",
    "#dans les variables à partir des listes et avec les indices des éléments.\n",
    "\n",
    "langages = [[\"Python\", \"C++\"], \"Java\"]\n",
    "nombres = [1, [4, [2, 3]], 5, [6], [[7]]]\n",
    "\n",
    "python =langages[0][0] # entrez le code ici\n",
    "deux = nombres[1][1][0] # entrez le code ici\n",
    "sept =nombres[-1][0][0]    # entrez le code ici\n",
    "print(python)\n",
    "print(deux)\n",
    "print(sept)"
   ]
  },
  {
   "cell_type": "code",
   "execution_count": 43,
   "id": "92d724fd",
   "metadata": {
    "ExecuteTime": {
     "end_time": "2022-09-21T08:32:11.075176Z",
     "start_time": "2022-09-21T08:32:11.063208Z"
    }
   },
   "outputs": [
    {
     "name": "stdout",
     "output_type": "stream",
     "text": [
      "['Paris', 'Lille']\n"
     ]
    }
   ],
   "source": [
    "#exercice36\n",
    "# l'indice de début est inclusif tandis que l'indice de fin est exclusif\n",
    "# on peut le voir avec cet exemple\n",
    "villes = ['Paris', 'Lille', 'Lyon']\n",
    "print(villes[:-1])"
   ]
  },
  {
   "cell_type": "code",
   "execution_count": 44,
   "id": "c4170400",
   "metadata": {
    "ExecuteTime": {
     "end_time": "2022-09-21T09:12:56.784543Z",
     "start_time": "2022-09-21T09:12:56.769583Z"
    }
   },
   "outputs": [
    {
     "name": "stdout",
     "output_type": "stream",
     "text": [
      "le seigneur des anneaux\n"
     ]
    }
   ],
   "source": [
    "#exercice37\n",
    "#Dans cet exercice, vous devez :\n",
    "\n",
    "#Afficher la phrase mdp_trop_court en majuscule si la longueur du mot de passe entré est égale à 0.\n",
    "\n",
    "#Afficher la phrase mdp_trop_court avec une majuscule sur la première lettre si la longueur du mot de passe \n",
    "#entré est plus petite que 8.\n",
    "\n",
    "Afficher la phrase \"Votre mot de passe ne contient que des nombres.\" si le mot de passe entré ne contient que des nombres.\n",
    "\n",
    "Afficher la phrase \"Inscription terminée.\" si le mot de passe est valide.\n",
    "\n",
    "Script de départ :\n",
    "\n",
    "mdp = input(\"Entrez un mot de passe (min 8 caractères) : \")\n",
    "mdp_trop_court = \"votre mot de passe est trop court.\"\n",
    "\n",
    "\n",
    "# Questions pour cet exercice\n",
    "# Comment utiliser les structures conditionnelles et des méthodes de chaînes de caractères pour vérifier \n",
    "# la validité du mot de passe ?\n",
    "\n",
    "mdp = input(\"Entrez un mot de passe (min 8 caractères) : \")\n",
    "mdp_trop_court = \"votre mot de passe est trop court.\"\n",
    "\n",
    "if len (mdp) == 0:\n",
    "    print(mdp_trop_court.upper())\n",
    "elif(len(mdp) < 8):\n",
    "    print(mdp_trop_court.capitalize())\n",
    "elif mdp.isdigit():\n",
    "    print(\"Votre mot de passe ne contient que des nombres.\")\n",
    "else: \n",
    "    print(\"Inscription terminée.\")"
   ]
  },
  {
   "cell_type": "code",
   "execution_count": 1,
   "id": "41103d55",
   "metadata": {
    "ExecuteTime": {
     "end_time": "2022-09-21T11:39:42.941468Z",
     "start_time": "2022-09-21T11:39:42.916539Z"
    }
   },
   "outputs": [
    {
     "name": "stdout",
     "output_type": "stream",
     "text": [
      "orange\n",
      "citron\n",
      "pomme\n",
      "cerise\n",
      "mandarine\n",
      "poire\n"
     ]
    }
   ],
   "source": [
    "#exercice38 \n",
    "#Utilisation de la bouble for sur une liste\n",
    "fruits = [\"orange\", \"citron\", \"pomme\", \"cerise\", \"mandarine\", \"poire\"]\n",
    "for fruit in fruits:\n",
    "    print(fruit)\n"
   ]
  },
  {
   "cell_type": "code",
   "execution_count": 2,
   "id": "c26aa222",
   "metadata": {
    "ExecuteTime": {
     "end_time": "2022-09-21T11:46:31.412579Z",
     "start_time": "2022-09-21T11:46:31.404604Z"
    }
   },
   "outputs": [
    {
     "name": "stdout",
     "output_type": "stream",
     "text": [
      "orange\n",
      "citron\n",
      "pomme\n",
      "cerise\n",
      "mandarine\n",
      "poire\n",
      "plus de fruits dans le panier\n"
     ]
    }
   ],
   "source": [
    "#exercice39\n",
    "# Utilisation de la boucle for et else\n",
    "fruits = [\"orange\", \"citron\", \"pomme\", \"cerise\", \"mandarine\", \"poire\"]\n",
    "for fruit in fruits:\n",
    "    print(fruit)\n",
    "else: \n",
    "    print(\"plus de fruits dans le panier\")"
   ]
  },
  {
   "cell_type": "code",
   "execution_count": 3,
   "id": "9386809a",
   "metadata": {
    "ExecuteTime": {
     "end_time": "2022-09-21T11:52:52.361165Z",
     "start_time": "2022-09-21T11:52:52.345211Z"
    }
   },
   "outputs": [
    {
     "name": "stdout",
     "output_type": "stream",
     "text": [
      "0\n",
      "1\n",
      "2\n",
      "3\n",
      "4\n"
     ]
    }
   ],
   "source": [
    "#exercice40\n",
    "# utilisation de la boucle for avec range\n",
    "for i in range(5):\n",
    "    print(i)"
   ]
  },
  {
   "cell_type": "code",
   "execution_count": 4,
   "id": "167272f5",
   "metadata": {
    "ExecuteTime": {
     "end_time": "2022-09-21T11:57:43.616451Z",
     "start_time": "2022-09-21T11:57:43.606479Z"
    }
   },
   "outputs": [
    {
     "name": "stdout",
     "output_type": "stream",
     "text": [
      "M\n",
      "y\n",
      " \n",
      "F\n",
      "r\n",
      "a\n",
      "n\n",
      "c\n",
      "e\n"
     ]
    }
   ],
   "source": [
    "#exercice40\n",
    "# utilisation de la boucle for avec des lettres\n",
    "prenom = \"My France\"\n",
    "for lettre in prenom:\n",
    "    print(lettre)"
   ]
  },
  {
   "cell_type": "code",
   "execution_count": 5,
   "id": "51ac579d",
   "metadata": {
    "ExecuteTime": {
     "end_time": "2022-09-21T12:03:57.201443Z",
     "start_time": "2022-09-21T12:03:57.177512Z"
    }
   },
   "outputs": [
    {
     "name": "stdout",
     "output_type": "stream",
     "text": [
      "1 Patrick\n",
      "2 John\n",
      "3 Marie\n"
     ]
    }
   ],
   "source": [
    "#exercice41\n",
    "ma_liste = [(1, \"Patrick\"), (2, \"John\"), (3, \"Marie\")]\n",
    "for (identifiant, nom) in ma_liste:\n",
    "    print(identifiant, nom)"
   ]
  },
  {
   "cell_type": "code",
   "execution_count": 12,
   "id": "1f2fa912",
   "metadata": {
    "ExecuteTime": {
     "end_time": "2022-09-21T12:25:18.541288Z",
     "start_time": "2022-09-21T12:25:18.526321Z"
    }
   },
   "outputs": [
    {
     "name": "stdout",
     "output_type": "stream",
     "text": [
      "c'est très bien\n",
      "c'est très bien\n",
      "c'est très bien\n",
      "c'est très bien\n",
      "c'est très bien\n"
     ]
    }
   ],
   "source": [
    "# exercice42\n",
    "# Utilisation du while \n",
    "i = 0\n",
    "while i < 5:\n",
    "    print(\"c'est très bien\")\n",
    "    i += 1\n",
    "    "
   ]
  },
  {
   "cell_type": "code",
   "execution_count": 13,
   "id": "a9656e73",
   "metadata": {
    "ExecuteTime": {
     "end_time": "2022-09-21T12:33:31.303039Z",
     "start_time": "2022-09-21T12:33:31.293070Z"
    }
   },
   "outputs": [
    {
     "name": "stdout",
     "output_type": "stream",
     "text": [
      "c'est très bien\n",
      "c'est très bien\n",
      "c'est très bien\n",
      "c'est très bien\n",
      "c'est très bien\n",
      "ma condition devient fausse, je dois donc sortir\n"
     ]
    }
   ],
   "source": [
    "# exercice43\n",
    "#Utilisation de while et else\n",
    "i = 0\n",
    "while i < 5:\n",
    "    print(\"c'est très bien\")\n",
    "    i += 1\n",
    "else: \n",
    "    print(\"Ma condition devient fausse, je dois donc sortir\")"
   ]
  },
  {
   "cell_type": "code",
   "execution_count": 27,
   "id": "9b096c00",
   "metadata": {
    "ExecuteTime": {
     "end_time": "2022-09-21T13:27:04.041237Z",
     "start_time": "2022-09-21T13:27:04.033261Z"
    }
   },
   "outputs": [
    {
     "name": "stdout",
     "output_type": "stream",
     "text": [
      "orange\n",
      "citron\n",
      "pomme\n",
      "j'aime la cerise\n",
      "mandarine\n",
      "poire\n",
      "on passe à la suite\n"
     ]
    }
   ],
   "source": [
    "# exercice44\n",
    "# Utilisation de continue\n",
    "fruits = [\"orange\", \"citron\", \"pomme\", \"cerise\", \"mandarine\", \"poire\"]\n",
    "\n",
    "for i in fruits: \n",
    "    if i == \"cerise\":\n",
    "        print(\"j'aime la cerise\")\n",
    "        continue\n",
    "    print(i)\n",
    "\n",
    "print(\"on passe à la suite\")\n",
    "        "
   ]
  },
  {
   "cell_type": "code",
   "execution_count": 31,
   "id": "42380ccc",
   "metadata": {
    "ExecuteTime": {
     "end_time": "2022-09-21T13:38:54.807119Z",
     "start_time": "2022-09-21T13:38:54.787175Z"
    }
   },
   "outputs": [
    {
     "name": "stdout",
     "output_type": "stream",
     "text": [
      "J'aime les cerises\n",
      "on passe à la suite\n"
     ]
    }
   ],
   "source": [
    "# exercice45\n",
    "# Utilisation du break\n",
    "fruits = [\"orange\", \"citron\", \"pomme\", \"cerise\", \"mandarine\", \"poire\"]\n",
    "for i in fruits:\n",
    "    if i ==\"cerise\":\n",
    "        print(\"J'aime les cerises\")\n",
    "        break\n",
    "        print(i)\n",
    "print(\"on passe à la suite\")"
   ]
  },
  {
   "cell_type": "code",
   "execution_count": 32,
   "id": "6c96b3cf",
   "metadata": {
    "ExecuteTime": {
     "end_time": "2022-09-21T13:43:20.452809Z",
     "start_time": "2022-09-21T13:43:20.433863Z"
    }
   },
   "outputs": [
    {
     "name": "stdout",
     "output_type": "stream",
     "text": [
      "Je mange des orange\n",
      "Je mange des citron\n",
      "Je mange des pomme\n",
      "Je n'ai plus faim\n"
     ]
    }
   ],
   "source": [
    "# exercice46\n",
    "#Utilisation de break\n",
    "fruits = [\"orange\", \"citron\", \"pomme\", \"cerise\", \"mandarine\", \"poire\"]\n",
    "fruits_manges = 0\n",
    "for i in fruits: \n",
    "    print(\"Je mange des \" + i)\n",
    "    fruits_manges += 1\n",
    "    if fruits_manges == 3:\n",
    "        break\n",
    "print(\"Je n'ai plus faim\")"
   ]
  },
  {
   "cell_type": "code",
   "execution_count": 34,
   "id": "3c54cff7",
   "metadata": {
    "ExecuteTime": {
     "end_time": "2022-09-21T13:53:31.471423Z",
     "start_time": "2022-09-21T13:53:31.446452Z"
    }
   },
   "outputs": [
    {
     "name": "stdout",
     "output_type": "stream",
     "text": [
      "a 0 b 0\n",
      "a 0 b 1\n",
      "a 0 b 2\n",
      "a 0 b 3\n",
      "a 1 b 0\n",
      "a 1 b 1\n",
      "a 1 b 2\n",
      "a 1 b 3\n",
      "a 2 b 0\n",
      "a 2 b 1\n",
      "a 2 b 2\n",
      "a 2 b 3\n"
     ]
    }
   ],
   "source": [
    "# exercice47\n",
    "#Utilisation de break\n",
    "for a in range(3):\n",
    "    for b in range(5):\n",
    "        print(\"a\", a, \"b\", b)\n",
    "        if b == 3:\n",
    "            break"
   ]
  },
  {
   "cell_type": "code",
   "execution_count": 39,
   "id": "29af6eed",
   "metadata": {
    "ExecuteTime": {
     "end_time": "2022-09-21T14:25:49.218633Z",
     "start_time": "2022-09-21T14:25:49.207663Z"
    }
   },
   "outputs": [
    {
     "name": "stdout",
     "output_type": "stream",
     "text": [
      "0\n",
      "2\n",
      "4\n",
      "6\n",
      "8\n"
     ]
    }
   ],
   "source": [
    "# exercice48\n",
    "# Afficher les nombres impaires de la liste \n",
    "liste = [0, 1, 2, 3, 4, 5, 6, 7, 8, 9]\n",
    "for i in liste:\n",
    "    if i % 2 == 1: \n",
    "        continue\n",
    "    else: \n",
    "        print(i)"
   ]
  },
  {
   "cell_type": "code",
   "execution_count": null,
   "id": "4618dcb5",
   "metadata": {
    "ExecuteTime": {
     "end_time": "2022-09-21T14:41:01.614372Z",
     "start_time": "2022-09-21T14:28:49.727Z"
    }
   },
   "outputs": [],
   "source": [
    "# exercice49\n",
    "# Boucle infinie\n",
    "i = 0\n",
    "while True: \n",
    "    #print(i)\n",
    "    i += 1\n",
    "    #if i == 10:\n",
    "        #continue"
   ]
  },
  {
   "cell_type": "code",
   "execution_count": 3,
   "id": "54d5d2c7",
   "metadata": {
    "ExecuteTime": {
     "end_time": "2022-09-21T16:43:24.677636Z",
     "start_time": "2022-09-21T16:43:24.659683Z"
    }
   },
   "outputs": [
    {
     "name": "stdout",
     "output_type": "stream",
     "text": [
      "[2, 5, 8, 1, 7, 9, 4]\n"
     ]
    }
   ],
   "source": [
    "# exercice50\n",
    "# filtrer la liste en ne récupérant que les nombres positifs\n",
    "# première méthode en utilisant le for\n",
    "liste = [2, 5 , 8, 1, -4, 7 , -10, -17, 9, 4 ]\n",
    "liste_nombres_positifs = []\n",
    "for i in liste:\n",
    "    if i > 0:\n",
    "        liste_nombres_positifs.append(i)\n",
    "print(liste_nombres_positifs)"
   ]
  },
  {
   "cell_type": "code",
   "execution_count": 4,
   "id": "9a920deb",
   "metadata": {
    "ExecuteTime": {
     "end_time": "2022-09-21T16:46:23.922704Z",
     "start_time": "2022-09-21T16:46:23.902757Z"
    }
   },
   "outputs": [
    {
     "name": "stdout",
     "output_type": "stream",
     "text": [
      "[2, 5, 8, 1, 7, 9, 4]\n"
     ]
    }
   ],
   "source": [
    "# exercice50\n",
    "# filtrer la liste en ne récupérant que les nombres positifs\n",
    "# Deuxième méthode en utilisant la compréhension de liste\n",
    "j'aime beaucoup cette méthode trop fac\n",
    "liste = [2, 5 , 8, 1, -4, 7 , -10, -17, 9, 4 ]\n",
    "liste_nombres_positifs = [i for i in liste if i > 0]\n",
    "print(liste_nombres_positifs)"
   ]
  },
  {
   "cell_type": "code",
   "execution_count": null,
   "id": "972d2fd1",
   "metadata": {},
   "outputs": [],
   "source": []
  }
 ],
 "metadata": {
  "kernelspec": {
   "display_name": "Python 3",
   "language": "python",
   "name": "python3"
  },
  "language_info": {
   "codemirror_mode": {
    "name": "ipython",
    "version": 3
   },
   "file_extension": ".py",
   "mimetype": "text/x-python",
   "name": "python",
   "nbconvert_exporter": "python",
   "pygments_lexer": "ipython3",
   "version": "3.8.8"
  },
  "toc": {
   "base_numbering": 1,
   "nav_menu": {},
   "number_sections": true,
   "sideBar": true,
   "skip_h1_title": false,
   "title_cell": "Table of Contents",
   "title_sidebar": "Contents",
   "toc_cell": false,
   "toc_position": {},
   "toc_section_display": true,
   "toc_window_display": false
  }
 },
 "nbformat": 4,
 "nbformat_minor": 5
}
