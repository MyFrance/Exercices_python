{
 "cells": [
  {
   "cell_type": "code",
   "execution_count": 1,
   "id": "31d18cea",
   "metadata": {
    "ExecuteTime": {
     "end_time": "2022-09-20T16:26:51.840419Z",
     "start_time": "2022-09-20T16:26:51.812496Z"
    }
   },
   "outputs": [
    {
     "name": "stdout",
     "output_type": "stream",
     "text": [
      "<class 'str'>\n",
      "<class 'int'>\n",
      "<class 'float'>\n"
     ]
    }
   ],
   "source": [
    "#Exercice 1\n",
    "1. #Écrire un programme, qui définit 3 variables : une variable de type texte, une variable de type\n",
    "#nombre entier, une variable de type nombre décimal et qui affiche leur type.\n",
    "\n",
    "variable_texte = \"Je suis une variable contenant du texte\"\n",
    "variable_nombre_entier = 27\n",
    "variable_decimal = 3.9\n",
    "\n",
    "print(type(variable_texte))\n",
    "print(type(variable_nombre_entier))\n",
    "print(type(variable_decimal))"
   ]
  },
  {
   "cell_type": "code",
   "execution_count": 2,
   "id": "b24eabd1",
   "metadata": {
    "ExecuteTime": {
     "end_time": "2022-09-20T16:26:51.856382Z",
     "start_time": "2022-09-20T16:26:51.843414Z"
    }
   },
   "outputs": [],
   "source": [
    "#Exercice 2\n",
    "#Affecter dans une même ligne les 3 variables précédemment définies.\n",
    "\n",
    "variable_texte, variable_nombre_entier, variable_decimal = \"Je suis une variable contenant du texte\", 27, 3.9"
   ]
  },
  {
   "cell_type": "code",
   "execution_count": 3,
   "id": "9deec371",
   "metadata": {
    "ExecuteTime": {
     "end_time": "2022-09-20T16:27:08.609578Z",
     "start_time": "2022-09-20T16:26:51.860373Z"
    }
   },
   "outputs": [
    {
     "ename": "KeyboardInterrupt",
     "evalue": "Interrupted by user",
     "output_type": "error",
     "traceback": [
      "\u001b[1;31m---------------------------------------------------------------------------\u001b[0m",
      "\u001b[1;31mKeyboardInterrupt\u001b[0m                         Traceback (most recent call last)",
      "\u001b[1;32m<ipython-input-3-fc37c99676f7>\u001b[0m in \u001b[0;36m<module>\u001b[1;34m\u001b[0m\n\u001b[0;32m      6\u001b[0m \u001b[1;33m\u001b[0m\u001b[0m\n\u001b[0;32m      7\u001b[0m \u001b[1;32mimport\u001b[0m \u001b[0mmath\u001b[0m\u001b[1;33m\u001b[0m\u001b[1;33m\u001b[0m\u001b[0m\n\u001b[1;32m----> 8\u001b[1;33m \u001b[0mr\u001b[0m \u001b[1;33m=\u001b[0m \u001b[0mfloat\u001b[0m\u001b[1;33m(\u001b[0m\u001b[0minput\u001b[0m\u001b[1;33m(\u001b[0m \u001b[1;34m\" Rentrer le rayon\"\u001b[0m\u001b[1;33m)\u001b[0m\u001b[1;33m)\u001b[0m\u001b[1;33m\u001b[0m\u001b[1;33m\u001b[0m\u001b[0m\n\u001b[0m\u001b[0;32m      9\u001b[0m \u001b[0mh\u001b[0m \u001b[1;33m=\u001b[0m \u001b[0mfloat\u001b[0m\u001b[1;33m(\u001b[0m\u001b[0minput\u001b[0m\u001b[1;33m(\u001b[0m \u001b[1;34m\" Rentrer la hauteur\"\u001b[0m\u001b[1;33m)\u001b[0m\u001b[1;33m)\u001b[0m\u001b[1;33m\u001b[0m\u001b[1;33m\u001b[0m\u001b[0m\n\u001b[0;32m     10\u001b[0m \u001b[0mV\u001b[0m \u001b[1;33m=\u001b[0m \u001b[0mround\u001b[0m\u001b[1;33m(\u001b[0m\u001b[1;33m(\u001b[0m\u001b[1;36m1\u001b[0m\u001b[1;33m/\u001b[0m\u001b[1;36m3\u001b[0m \u001b[1;33m*\u001b[0m\u001b[1;33m(\u001b[0m\u001b[0mmath\u001b[0m\u001b[1;33m.\u001b[0m\u001b[0mpi\u001b[0m\u001b[1;33m)\u001b[0m\u001b[1;33m*\u001b[0m\u001b[0mr\u001b[0m\u001b[1;33m*\u001b[0m\u001b[0mr\u001b[0m\u001b[1;33m*\u001b[0m\u001b[0mh\u001b[0m\u001b[1;33m)\u001b[0m\u001b[1;33m,\u001b[0m\u001b[1;36m3\u001b[0m\u001b[1;33m)\u001b[0m\u001b[1;33m\u001b[0m\u001b[1;33m\u001b[0m\u001b[0m\n",
      "\u001b[1;32mC:\\ProgramData\\Anaconda3\\lib\\site-packages\\ipykernel\\kernelbase.py\u001b[0m in \u001b[0;36mraw_input\u001b[1;34m(self, prompt)\u001b[0m\n\u001b[0;32m    858\u001b[0m                 \u001b[1;34m\"raw_input was called, but this frontend does not support input requests.\"\u001b[0m\u001b[1;33m\u001b[0m\u001b[1;33m\u001b[0m\u001b[0m\n\u001b[0;32m    859\u001b[0m             )\n\u001b[1;32m--> 860\u001b[1;33m         return self._input_request(str(prompt),\n\u001b[0m\u001b[0;32m    861\u001b[0m             \u001b[0mself\u001b[0m\u001b[1;33m.\u001b[0m\u001b[0m_parent_ident\u001b[0m\u001b[1;33m,\u001b[0m\u001b[1;33m\u001b[0m\u001b[1;33m\u001b[0m\u001b[0m\n\u001b[0;32m    862\u001b[0m             \u001b[0mself\u001b[0m\u001b[1;33m.\u001b[0m\u001b[0m_parent_header\u001b[0m\u001b[1;33m,\u001b[0m\u001b[1;33m\u001b[0m\u001b[1;33m\u001b[0m\u001b[0m\n",
      "\u001b[1;32mC:\\ProgramData\\Anaconda3\\lib\\site-packages\\ipykernel\\kernelbase.py\u001b[0m in \u001b[0;36m_input_request\u001b[1;34m(self, prompt, ident, parent, password)\u001b[0m\n\u001b[0;32m    902\u001b[0m             \u001b[1;32mexcept\u001b[0m \u001b[0mKeyboardInterrupt\u001b[0m\u001b[1;33m:\u001b[0m\u001b[1;33m\u001b[0m\u001b[1;33m\u001b[0m\u001b[0m\n\u001b[0;32m    903\u001b[0m                 \u001b[1;31m# re-raise KeyboardInterrupt, to truncate traceback\u001b[0m\u001b[1;33m\u001b[0m\u001b[1;33m\u001b[0m\u001b[1;33m\u001b[0m\u001b[0m\n\u001b[1;32m--> 904\u001b[1;33m                 \u001b[1;32mraise\u001b[0m \u001b[0mKeyboardInterrupt\u001b[0m\u001b[1;33m(\u001b[0m\u001b[1;34m\"Interrupted by user\"\u001b[0m\u001b[1;33m)\u001b[0m \u001b[1;32mfrom\u001b[0m \u001b[1;32mNone\u001b[0m\u001b[1;33m\u001b[0m\u001b[1;33m\u001b[0m\u001b[0m\n\u001b[0m\u001b[0;32m    905\u001b[0m             \u001b[1;32mexcept\u001b[0m \u001b[0mException\u001b[0m \u001b[1;32mas\u001b[0m \u001b[0me\u001b[0m\u001b[1;33m:\u001b[0m\u001b[1;33m\u001b[0m\u001b[1;33m\u001b[0m\u001b[0m\n\u001b[0;32m    906\u001b[0m                 \u001b[0mself\u001b[0m\u001b[1;33m.\u001b[0m\u001b[0mlog\u001b[0m\u001b[1;33m.\u001b[0m\u001b[0mwarning\u001b[0m\u001b[1;33m(\u001b[0m\u001b[1;34m\"Invalid Message:\"\u001b[0m\u001b[1;33m,\u001b[0m \u001b[0mexc_info\u001b[0m\u001b[1;33m=\u001b[0m\u001b[1;32mTrue\u001b[0m\u001b[1;33m)\u001b[0m\u001b[1;33m\u001b[0m\u001b[1;33m\u001b[0m\u001b[0m\n",
      "\u001b[1;31mKeyboardInterrupt\u001b[0m: Interrupted by user"
     ]
    }
   ],
   "source": [
    "#Exercice 3\n",
    "#Cet exercice est sans rapport avec le précédent …\n",
    "#Écrire un programme qui, à partir de la saisie d’un rayon et d’une hauteur, calcule le volume d’un\n",
    "#cône droit : V =1/3 * π×r² * h\n",
    "#Comparer la précision de calcul avec votre calculatrice ou celle de l’ordinateur.\n",
    "\n",
    "import math\n",
    "r = float(input( \" Rentrer le rayon\"))\n",
    "h = float(input( \" Rentrer la hauteur\"))\n",
    "V = round((1/3 *(math.pi)*r*r*h),3)\n",
    "print(f\"Le volume de la sphère est : \" , V)"
   ]
  },
  {
   "cell_type": "code",
   "execution_count": null,
   "id": "7de1def6",
   "metadata": {
    "ExecuteTime": {
     "end_time": "2022-09-20T16:27:08.613568Z",
     "start_time": "2022-09-20T16:26:51.815Z"
    }
   },
   "outputs": [],
   "source": [
    "#Exercice 4\n",
    "# Une machine découpe dans une plaque, des disques circulaires de rayon rExt, percés d’un trou\n",
    "# circulaire de rayon rInt avec rInt < rExt et ne débordant pas du disque.\n",
    "#Quelle est la surface d’un disque découpé ?\n",
    "import math\n",
    "h = 1\n",
    "rExt = float(input(\"Rentrer le rayon exterieur: \"))\n",
    "rint = float(input(\"Rentrer le rayon interieur: \"))\n",
    "SEXT = round(math.pi*rExt*rExt,3)\n",
    "SinT = round(math.pi*rint*rint*h,3)\n",
    "S = SEXT - SinT\n",
    "print (f\"la surface du disque est\" , round(S,3))"
   ]
  },
  {
   "cell_type": "code",
   "execution_count": null,
   "id": "e2fa2803",
   "metadata": {
    "ExecuteTime": {
     "end_time": "2022-09-20T16:27:08.615563Z",
     "start_time": "2022-09-20T16:26:51.818Z"
    }
   },
   "outputs": [],
   "source": [
    "#Exercice 5\n",
    "#Écrire un programme, qui ajoute une chaîne de caractères à un nombre entier (Exemple la chaîne\n",
    "#”le chat” et le nombre 3 pour donner le chat + 3).\n",
    "chaine = \" Le chat\"\n",
    "nombre = 3\n",
    "print( chaine, \" + \", nombre)"
   ]
  },
  {
   "cell_type": "code",
   "execution_count": null,
   "id": "249eda1a",
   "metadata": {
    "ExecuteTime": {
     "end_time": "2022-09-20T16:27:08.617558Z",
     "start_time": "2022-09-20T16:26:51.820Z"
    }
   },
   "outputs": [],
   "source": [
    "#Exercice 6\n",
    "#Écrire un programme, qui donne la mesure de l’angle α d’un triangle rectangle, dont on saisit le\n",
    "#côté opposé et l’hypothénuse.\n",
    "#Rappel : sinφ = CoteOppose/Hypotenuse\n",
    "\n",
    "import math\n",
    "cote_oppose = float(input(\"Entrer le cote opposé:  \"))\n",
    "hypotenuse = float(input(\"Entrer l'hypotenus:  \"))\n",
    "omega = cote_oppose/hypotenuse\n",
    "print(\"f l'angle du triangle rectangle est de : \", degrees (asin(omega)))"
   ]
  },
  {
   "cell_type": "code",
   "execution_count": null,
   "id": "ec5387e7",
   "metadata": {
    "ExecuteTime": {
     "end_time": "2022-09-20T16:27:08.620553Z",
     "start_time": "2022-09-20T16:26:51.823Z"
    }
   },
   "outputs": [],
   "source": [
    "#Exercice 7\n",
    "#Écrire un programme qui réalise la saisie d’un nombre entier puis affiche la valeur ainsi saisie et son\n",
    "#type\n",
    "nombre = input(\"Saisir un nombre : \")\n",
    "print(type(nombre))"
   ]
  },
  {
   "cell_type": "code",
   "execution_count": null,
   "id": "39d9f1a5",
   "metadata": {
    "ExecuteTime": {
     "end_time": "2022-09-20T16:27:08.621548Z",
     "start_time": "2022-09-20T16:26:51.827Z"
    }
   },
   "outputs": [],
   "source": [
    "#Exercice 7\n",
    "#Écrire un programme min_max.py, qui demande de saisir 2 valeurs et qui affiche la plus petite des 2\n",
    "#valeurs.\n",
    "valeur_1 = int(input(\"saisir valeur 1 : \"))\n",
    "valeur_2 = int(input(\"saisir valeur 2 : \"))\n",
    "\n",
    "if (valeur_1 < valeur_2):\n",
    "    print(\" La valeur 1 est la plus petit\")\n",
    "else:\n",
    "    print(\"\\nLa valeur 2 est la plus petite\")"
   ]
  },
  {
   "cell_type": "code",
   "execution_count": null,
   "id": "df14b2a9",
   "metadata": {
    "ExecuteTime": {
     "end_time": "2022-09-20T16:27:08.623540Z",
     "start_time": "2022-09-20T16:26:51.832Z"
    }
   },
   "outputs": [],
   "source": [
    "#Exercice 8\n",
    "#. Écrire un script longeur_chaine.py, qui demande de saisir 2 chaînes de caractères et qui affiche la\n",
    "#plus grande des 2 chaînes (celle qui a le plus de caractères).\n",
    "chaine_1 = str(input(\"entrer une chaine de caractère : \"))\n",
    "chaine_2 = str(input(\"entrer une chaine de caractère : \"))\n",
    "longueur_chaine1 = len(chaine_1)\n",
    "longueur_chaine2 = len(chaine_2)\n",
    "\n",
    "if len(chaine_1) > len(chaine_2):\n",
    "    print (\"La chaine 1 est plus grande que la chaine 2\")\n",
    "else: \n",
    "    print(\"La chaine 2 est plus petite que la chaine 1\")"
   ]
  },
  {
   "cell_type": "code",
   "execution_count": null,
   "id": "6a98fc42",
   "metadata": {
    "ExecuteTime": {
     "end_time": "2022-09-20T16:27:08.625537Z",
     "start_time": "2022-09-20T16:26:51.835Z"
    }
   },
   "outputs": [],
   "source": [
    "#Exercice 9\n",
    "#Écrire un programme, qui affiche 50 fois ”Je dois ranger mon bureau” à l’aide de l’instruction for \n",
    "for i in range(1,50):\n",
    "    print(\"je dois ranger mon bureau\")\n",
    "    "
   ]
  },
  {
   "cell_type": "code",
   "execution_count": null,
   "id": "e567fd71",
   "metadata": {
    "ExecuteTime": {
     "end_time": "2022-09-20T16:27:08.627534Z",
     "start_time": "2022-09-20T16:26:51.839Z"
    }
   },
   "outputs": [],
   "source": [
    "#Exercice 10\n",
    "\n",
    "#Écrivez un script qui recopie une chaîne (dans une nouvelle variable), en insérant des astérisques entre les caractères.\n",
    "#Par exemple, « gaston » devra devenir « g*a*s*t*o*n »\n",
    "\n",
    "chaine = \"chanter sur un air de mozart\"\n",
    "\"*\".join(chaine)"
   ]
  },
  {
   "cell_type": "code",
   "execution_count": null,
   "id": "a12685f9",
   "metadata": {
    "ExecuteTime": {
     "end_time": "2022-09-20T16:27:08.630524Z",
     "start_time": "2022-09-20T16:26:51.843Z"
    }
   },
   "outputs": [],
   "source": [
    "#Exercice 11\n",
    "\n",
    "#Écrivez un script qui recopie une chaîne (dans une nouvelle variable) en l'inversant. Par exemple, « zorglub » deviendra « bulgroz ».\n",
    "chaine = \"zorglub\"\n",
    "reversed(chaine)\n",
    "\"\".join(reversed(chaine))"
   ]
  },
  {
   "cell_type": "code",
   "execution_count": null,
   "id": "b2685b32",
   "metadata": {
    "ExecuteTime": {
     "end_time": "2022-09-20T16:27:08.633523Z",
     "start_time": "2022-09-20T16:26:51.847Z"
    }
   },
   "outputs": [],
   "source": [
    "#Exercice 12\n",
    "#pour utiliser le zfill il faut que la chaine soit un string\n",
    "chaine = \"10\"\n",
    "print(chaine.zfill(3))"
   ]
  },
  {
   "cell_type": "code",
   "execution_count": null,
   "id": "de27b2c3",
   "metadata": {
    "ExecuteTime": {
     "end_time": "2022-09-20T16:27:08.636509Z",
     "start_time": "2022-09-20T16:26:51.851Z"
    }
   },
   "outputs": [],
   "source": [
    "#Exercice13\n",
    "#Écrivez un programme qui convertit en radians un angle fourni au départ en degrés, minutes, secondes.\n",
    "# On sait que un radian = 360°/2pi soit 180° /pi\n",
    "import math\n",
    "\n",
    "angle = int(input(\"Donnez la valeur de l'angle en degré: \"))\n",
    "minutes = int(input(\"Donnez la valeur en minutes: \"))\n",
    "secondes = int(input(\"Donnez la valeur en seconde: \"))\n",
    "\n",
    "#Conversions \n",
    "#1- convertir les secondes en minutes\n",
    "seconde_en_minute = secondes/60\n",
    "#2- convertir les minutes en angle\n",
    "minutes_en_angle = (seconde_en_minute + minutes)/60\n",
    "#3- angle en degré\n",
    "angle_en_degre = angle + minutes_en_angle\n",
    "\n",
    "# convertir les angles en radian\n",
    "#on sait que:\n",
    "# radian = 180/math.pi\n",
    "# angle_en_radian = angle_en_degre/radian\n",
    "\n",
    "#ou on peut utliser directement la fonction radians qui convertit les degrés en radian\n",
    "angle_en_radian = math.radians(angle_en_degre)\n",
    "\n",
    "print(f\"\\nLa conversion de\", angle,\"°\",minutes,\"min\",secondes,\"sec\",  \"donne\", round(angle_en_radian,3),\"radian\" )"
   ]
  },
  {
   "cell_type": "code",
   "execution_count": null,
   "id": "9691d34c",
   "metadata": {
    "ExecuteTime": {
     "end_time": "2022-09-20T16:27:08.639516Z",
     "start_time": "2022-09-20T16:26:51.854Z"
    }
   },
   "outputs": [],
   "source": [
    "# Exercice14\n",
    "# Écrire une fonction nombre_chiffres prenant en paramètre deux entiers positifs nombre et chiffre, ce dernier étant compris entre 0 et 9.\n",
    "# La fonction doit renvoyer le nombre de fois où apparait le chiffre dans la composition du nombre.\n",
    "\n",
    "# >>> nombre_chiffres(111222, 2) \n",
    "# 3 \n",
    "# >>> nombre_chiffres(100000, 0) \n",
    "# 5 \n",
    "# >>> nombre_chiffres(65535, 5) \n",
    "# 3 \n",
    "# >>> nombre_chiffres(31415927, 8) \n",
    "# 0 \n",
    "# >>> nombre_chiffres(5, 5) \n",
    "# 1 \n",
    "# >>> nombre_chiffres(0, 0) \n",
    "# 1\n",
    "\n",
    "\n",
    "def nombre_chiffres(nombre, chiffre):\n",
    "    return str(nombre).count(str(chiffre))\n",
    "\n",
    "# Combien de fois apparait le chiffre 5 dans ce nombre\n",
    "nombre_chiffres(65535, 5) "
   ]
  },
  {
   "cell_type": "code",
   "execution_count": null,
   "id": "6b72c2df",
   "metadata": {
    "ExecuteTime": {
     "end_time": "2022-09-20T16:27:08.642493Z",
     "start_time": "2022-09-20T16:26:51.857Z"
    }
   },
   "outputs": [],
   "source": [
    "#Exercice14\n",
    "a = 2\n",
    "b = 3\n",
    "c = 4\n",
    "print((\" + \").join(str(a) + str(b) + str(c)))"
   ]
  },
  {
   "cell_type": "code",
   "execution_count": null,
   "id": "5ea19feb",
   "metadata": {
    "ExecuteTime": {
     "end_time": "2022-09-20T16:27:08.644486Z",
     "start_time": "2022-09-20T16:26:51.862Z"
    }
   },
   "outputs": [],
   "source": [
    "#Exercice15\n",
    "lettre_a_chercher = \"o\"\n",
    "phrase = \"Bonjour tout le monde\"\n",
    "resultat = phrase.lower().count(lettre_a_chercher)\n",
    "print(resultat)"
   ]
  },
  {
   "cell_type": "code",
   "execution_count": null,
   "id": "386e619d",
   "metadata": {
    "ExecuteTime": {
     "end_time": "2022-09-20T16:27:08.647477Z",
     "start_time": "2022-09-20T16:26:51.865Z"
    }
   },
   "outputs": [],
   "source": [
    "#Exercice16\n",
    "lorem = \"\"\"Lorem ipsum dolor sit amet, consectetur adipiscing elit, sed do eiusmod tempor incididunt ut labore et dolore magna aliqua.\n",
    "\t\t   Ut enim ad minim veniam, quis nostrud exercitation ullamco laboris nisi ut aliquip ex ea commodo consequat.\n",
    "\t\t   Duis aute irure dolor in reprehenderit in voluptate velit esse cillum dolore eu fugiat nulla pariatur.\n",
    "\t\t   Excepteur sint occaecat cupidatat non proident, sunt in culpa qui officia deserunt mollit anim id est laborum.\"\"\"\n",
    "\t\t   \n",
    "resultat = lorem.count(\".\")\n",
    "print(resultat)"
   ]
  },
  {
   "cell_type": "code",
   "execution_count": null,
   "id": "80575a94",
   "metadata": {
    "ExecuteTime": {
     "end_time": "2022-09-20T16:27:08.650472Z",
     "start_time": "2022-09-20T16:26:51.868Z"
    }
   },
   "outputs": [],
   "source": [
    "#Exercice17\n",
    "# Le but de cet exercice et de remettre en ordre alphabétique les prénoms présents dans la chaîne de caractères.\n",
    "\n",
    "# Vous devez créer une variable chaine_en_ordre qui, à la fin de l'exercice, doit contenir la chaîne de caractères suivante :\n",
    "\n",
    "# Anne, Julien, Lucien, Marie, Pierre\n",
    "\n",
    "chaine = \"Pierre, Julien, Anne, Marie, Lucien\"\n",
    "#resultat = sorted(chaine.split(\", \"))\n",
    "resultat = \", \".join(sorted(chaine.split(\", \")))\n",
    "print(resultat)"
   ]
  },
  {
   "cell_type": "code",
   "execution_count": null,
   "id": "a287c02d",
   "metadata": {
    "ExecuteTime": {
     "end_time": "2022-09-20T16:27:08.653463Z",
     "start_time": "2022-09-20T16:26:51.872Z"
    }
   },
   "outputs": [],
   "source": [
    "#Exercice18\n",
    "#Dans cet exercice, vous devez recréer l'URL du site https://www.docstring.fr/glossaire/ \n",
    "#grâce aux différents variables et à l'aide d'une f-string.\n",
    "# Ne modifiez pas les variables ci-dessous\n",
    "\n",
    "protocole = \"https://\"\n",
    "nom_du_site = \"docstring\"\n",
    "extension = \"fr\"\n",
    "page = \"glossaire\"\n",
    "\n",
    "# Modifiez le code à partir d'ici \n",
    "URL = protocole + \"www.\" + nom_du_site + \".\" + extension +\"/\" + page +\"/\"\n",
    "print(URL)"
   ]
  },
  {
   "cell_type": "code",
   "execution_count": null,
   "id": "d46c4918",
   "metadata": {
    "ExecuteTime": {
     "end_time": "2022-09-20T16:27:08.655456Z",
     "start_time": "2022-09-20T16:26:51.875Z"
    }
   },
   "outputs": [],
   "source": [
    "# exercice19\n",
    "#générer de façon alléatoire les nombres entiers compris entre 3 et 11\n",
    "\n",
    "#pour cela on va faire appel à la fonction au module ranrom et à la fonction randint\n",
    "import random\n",
    "\n",
    "a = random.randint(3,11)\n",
    "print(a)\n",
    "\n"
   ]
  },
  {
   "cell_type": "code",
   "execution_count": null,
   "id": "c5ef72f4",
   "metadata": {
    "ExecuteTime": {
     "end_time": "2022-09-20T16:27:08.658448Z",
     "start_time": "2022-09-20T16:26:51.878Z"
    }
   },
   "outputs": [],
   "source": [
    "#exercice20\n",
    "# Génération de façon alléatoire des nombres décimaux compris entre 3 et 11\n",
    "import random\n",
    "# Pour cela on va utiliser la fonction uniform()\n",
    "b = random.uniform(3,11)\n",
    "print(b)\n"
   ]
  },
  {
   "cell_type": "code",
   "execution_count": null,
   "id": "142380da",
   "metadata": {
    "ExecuteTime": {
     "end_time": "2022-09-20T16:27:08.660444Z",
     "start_time": "2022-09-20T16:26:51.882Z"
    }
   },
   "outputs": [],
   "source": [
    "#exercice21\n",
    "# Génération de façon alléatoire des nombres entierscompris entre 3 et 11 avec un pas de 2\n",
    "#pour cela on va utiliser la fonction randrange() jusqu'à 12 pour avoir le 11 inclus\n",
    "\n",
    "c= random.randrange(3,12,2)\n",
    "print(c)"
   ]
  },
  {
   "cell_type": "code",
   "execution_count": null,
   "id": "2348d41f",
   "metadata": {
    "ExecuteTime": {
     "end_time": "2022-09-20T16:27:08.662437Z",
     "start_time": "2022-09-20T16:26:51.885Z"
    }
   },
   "outputs": [],
   "source": [
    "#exercice22\n",
    "# Dans cet exercice, vous devez générer deux nombres aléatoires et indiquer à l'utilisateur lequel des deux nombres \n",
    "# est le plus grand.\n",
    "\n",
    "\n",
    "# Votre script doit afficher la phrase suivante :\n",
    "\n",
    "# \"Le nombre b est plus grand que le nombre a.\"\n",
    "\n",
    "# Dans le cas contraire, le script devra afficher :\n",
    "\n",
    "# \"Le nombre a est plus grand que le nombre b.\"\n",
    "\n",
    "# Si les nombres sont égaux, le script devra afficher :\n",
    "\n",
    "# \"Le nombre a et le nombre b sont égaux.\"\n",
    "\n",
    "# Les deux nombres générés aléatoirement peuvent être des nombres entier ou des nombres décimaux,\n",
    "# cela n'a pas d'importance. Vous pouvez également choisir n'importe quel intervalle pour générer votre nombre aléatoire.\n",
    "\n",
    "\n",
    "a = random.randint(5,30)\n",
    "b = random.uniform(0,25)\n",
    "\n",
    "if b > a: \n",
    "    print(\"Le nombre b est plus grand que le nombre a.\")\n",
    "elif a > b: \n",
    "    print(\"Le nombre a est plus grand que le nombre b.\")\n",
    "elif a ==b: \n",
    "    print(\"Le nombre a et le nombre b sont égaux.\")"
   ]
  },
  {
   "cell_type": "code",
   "execution_count": null,
   "id": "39865164",
   "metadata": {
    "ExecuteTime": {
     "end_time": "2022-09-20T16:27:08.666427Z",
     "start_time": "2022-09-20T16:26:51.889Z"
    }
   },
   "outputs": [],
   "source": [
    "#exercice23\n",
    "# Utilisation dela fonction os \n",
    "import os \n",
    "\n",
    "chemin = (r\"C:\\Users\\Utilisateur\\Desktop\\VDE\\python\")\n",
    "dossier = os.path.join(chemin, \"dossier\", \"test\") #On récupère le chemin complet du dossier\n",
    "# on va ensuite créer le dossier\n",
    "\n",
    "if not os.path.exists(dossier):\n",
    "    os.makedirs(dossier) # Création d'un dossier nommer dossier à l'intérieur duquel on a un autre dossier test\n",
    "# on peut aussi faire: \n",
    "#os.makedirs(dossier, exist_ok = True)\n",
    "\n",
    "# pour Supprimer un dossier \n",
    "#on va faire: \n",
    "# if os.path.exists(dossier):\n",
    "#     os.removedirs(dossier)"
   ]
  },
  {
   "cell_type": "code",
   "execution_count": null,
   "id": "f9a5de28",
   "metadata": {
    "ExecuteTime": {
     "end_time": "2022-09-20T16:27:08.668422Z",
     "start_time": "2022-09-20T16:26:51.892Z"
    }
   },
   "outputs": [],
   "source": [
    "#Exercice24\n",
    "#Comment rechercher de l'aide pour la fonction random par exemple?\n",
    "import random\n",
    "print(dir(random)) \n",
    "\n",
    "# la fonction du=dir va nous afficher toute l'aide que nous avons besoin sur le module random. \n",
    "#ici par exemple les fonction qui commence avec __Nom__ on il ne faut pas le prendre car reserver pour python\n",
    "#nous avons déja par exemple vue les fonctions \"randint\", \"uniform\", \"randrange\""
   ]
  },
  {
   "cell_type": "code",
   "execution_count": null,
   "id": "55460868",
   "metadata": {
    "ExecuteTime": {
     "end_time": "2022-09-20T16:27:08.672411Z",
     "start_time": "2022-09-20T16:26:51.895Z"
    }
   },
   "outputs": [],
   "source": [
    "#exercice25\n",
    "#Rechercher de l'aide avec la fonction help\n",
    "help(random.randint)"
   ]
  },
  {
   "cell_type": "code",
   "execution_count": null,
   "id": "a7de0ce0",
   "metadata": {
    "ExecuteTime": {
     "end_time": "2022-09-20T16:27:08.675403Z",
     "start_time": "2022-09-20T16:26:51.898Z"
    }
   },
   "outputs": [],
   "source": [
    "#exercice26\n",
    "#utilisation de la fonction pprint\n",
    "#elle permet de faire un meilleur affichage ligne par ligne de chaque focntion \n",
    "# ne fonction qu'avec la fonction dir\n",
    "from pprint import pprint\n",
    "pprint(dir(random)) "
   ]
  },
  {
   "cell_type": "code",
   "execution_count": null,
   "id": "be75b797",
   "metadata": {
    "ExecuteTime": {
     "end_time": "2022-09-20T16:27:08.678396Z",
     "start_time": "2022-09-20T16:26:51.901Z"
    }
   },
   "outputs": [],
   "source": [
    "#exercice27\n",
    "# Supprimer Paris de la liste \n",
    "villes = ['Paris', 'Lille', 'Lyon']\n",
    "del villes[0]\n",
    "print(villes)\n"
   ]
  },
  {
   "cell_type": "code",
   "execution_count": null,
   "id": "a7a9f51a",
   "metadata": {
    "ExecuteTime": {
     "end_time": "2022-09-20T16:27:08.681390Z",
     "start_time": "2022-09-20T16:26:51.904Z"
    }
   },
   "outputs": [],
   "source": [
    "#exercice28\n",
    "#Utilisation de del\n",
    "ville = ['Paris', 'Lille', 'Lyon']\n",
    "del ville\n",
    "#print(ville)"
   ]
  },
  {
   "cell_type": "code",
   "execution_count": null,
   "id": "63ad9b83",
   "metadata": {
    "ExecuteTime": {
     "end_time": "2022-09-20T16:27:08.683382Z",
     "start_time": "2022-09-20T16:26:51.908Z"
    }
   },
   "outputs": [],
   "source": [
    "#exercice29\n",
    "#Utilisation de pop\n",
    "ville = ['Paris', 'Lille', 'Lyon']\n",
    "ma_ville = ville.pop(1)\n",
    "print(f\"Les villes restantes dans la liste : \", ville)\n",
    "print(f\"Ville récupérée: \" , ma_ville)"
   ]
  },
  {
   "cell_type": "code",
   "execution_count": null,
   "id": "5579b431",
   "metadata": {
    "ExecuteTime": {
     "end_time": "2022-09-20T16:27:08.686375Z",
     "start_time": "2022-09-20T16:26:51.912Z"
    }
   },
   "outputs": [],
   "source": [
    "# exercice30\n",
    "# Utilisation de remove\n",
    "#remove enlève seulement la première occurence, si on veut enlever tous les paris, il faut faire 3 revome\n",
    "ville = ['Paris', 'Lille', 'Lyon', 'Paris', 'Paris']\n",
    "ville.remove('Paris')\n",
    "print(ville)"
   ]
  },
  {
   "cell_type": "code",
   "execution_count": null,
   "id": "29122a83",
   "metadata": {
    "ExecuteTime": {
     "end_time": "2022-09-20T16:27:08.688369Z",
     "start_time": "2022-09-20T16:26:51.915Z"
    }
   },
   "outputs": [],
   "source": [
    "#exercice32\n",
    "# Récupérez le premier et le dernier nombre contenus dans cette liste dans les variables\n",
    "#'nombre_premier' et 'nombre_dernier'.\n",
    "nombres = [1, 2, 3, 4, 5, 4, 3, 2, 1]\n",
    "nombre_premier = nombres[0]\n",
    "nombre_dernier = nombres[-1]\n",
    "\n",
    "# Récupérer l'élément 'Python' contenu dans la liste dans la variable 'langage'.\n",
    "langages = [\"Java\", \"Python\", \"C++\"]\n",
    "langage = langages.pop(1)\n",
    "# inverser la position de python avec c++\n",
    "liste = [\"Java\", \"Python\", \"C++\"]\n",
    "liste.remove(\"Python\")\n",
    "liste.append(\"Python\")\n",
    "\n",
    "\n",
    "print(nombre_premier)\n",
    "print(nombre_dernier)\n",
    "print(langage)\n",
    "print(liste)\n"
   ]
  },
  {
   "cell_type": "code",
   "execution_count": null,
   "id": "d98c5ed0",
   "metadata": {
    "ExecuteTime": {
     "end_time": "2022-09-20T16:27:08.691361Z",
     "start_time": "2022-09-20T16:26:51.919Z"
    }
   },
   "outputs": [],
   "source": [
    "#exercice33\n",
    "#Dans cet exercice, vous devez récupérer différents morceaux d'une liste grâce aux slices.\n",
    "\n",
    "liste = [\"Maxime\", \"Martine\", \"Christopher\", \"Carlos\", \"Michael\", \"Eric\"]\n",
    "\n",
    "trois_premiers =liste[:3] #Les trois premiers employés (\"Maxime\", \"Martine\" et \"Christopher\")\n",
    "trois_derniers =liste[3:] # Les trois derniers employés (\"Carlos\", \"Michael\" et \"Éric\") \n",
    "milieu = liste[1:-1] # Tous les employés sauf le premier et le dernier dans une liste milieu\n",
    "premier_dernier = liste[::5]  # Le premier et le dernier employé dans une liste premier_dernier\n",
    "\n",
    "print(f\"Les trois premiers: \", trois_premiers)\n",
    "print(f\"Les trois derniers: \",  trois_derniers)\n",
    "print(f\"Les employers du milieu sauf le premier et le dernier: \", milieu)\n",
    "print(f\"Le premier et le dernier: \", premier_dernier)"
   ]
  },
  {
   "cell_type": "code",
   "execution_count": 7,
   "id": "37ea669d",
   "metadata": {
    "ExecuteTime": {
     "end_time": "2022-09-20T16:29:24.281320Z",
     "start_time": "2022-09-20T16:29:24.270352Z"
    }
   },
   "outputs": [
    {
     "name": "stdout",
     "output_type": "stream",
     "text": [
      "[1, 2, 3, 4, 5, 6]\n",
      "True\n"
     ]
    }
   ],
   "source": [
    "# Vérifier qu'un élément est dans une liste\n",
    "# Dans cet exercice, vous devez :\n",
    "\n",
    "# Ajouter le nombre 6 dans la liste.\n",
    "\n",
    "# Faire une vérification par la suite pour vous assurer que l'élément a bien été ajouté.\n",
    "\n",
    "# La liste de départ est la suivante \n",
    "liste = [1, 2, 3, 4, 5]\n",
    "liste.append(6)\n",
    "print(liste)\n",
    "#Vérificaion de 6 est bien dans la liste \n",
    "if 6 in liste:\n",
    "    print(True)\n"
   ]
  },
  {
   "cell_type": "code",
   "execution_count": null,
   "id": "3acba8bd",
   "metadata": {},
   "outputs": [],
   "source": []
  }
 ],
 "metadata": {
  "kernelspec": {
   "display_name": "Python 3",
   "language": "python",
   "name": "python3"
  },
  "language_info": {
   "codemirror_mode": {
    "name": "ipython",
    "version": 3
   },
   "file_extension": ".py",
   "mimetype": "text/x-python",
   "name": "python",
   "nbconvert_exporter": "python",
   "pygments_lexer": "ipython3",
   "version": "3.8.8"
  },
  "toc": {
   "base_numbering": 1,
   "nav_menu": {},
   "number_sections": true,
   "sideBar": true,
   "skip_h1_title": false,
   "title_cell": "Table of Contents",
   "title_sidebar": "Contents",
   "toc_cell": false,
   "toc_position": {},
   "toc_section_display": true,
   "toc_window_display": false
  }
 },
 "nbformat": 4,
 "nbformat_minor": 5
}
