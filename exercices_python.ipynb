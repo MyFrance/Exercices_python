{
 "cells": [
  {
   "cell_type": "code",
   "execution_count": 1,
   "id": "31d18cea",
   "metadata": {
    "ExecuteTime": {
     "end_time": "2022-09-16T07:56:18.261646Z",
     "start_time": "2022-09-16T07:56:18.244691Z"
    }
   },
   "outputs": [
    {
     "name": "stdout",
     "output_type": "stream",
     "text": [
      "<class 'str'>\n",
      "<class 'int'>\n",
      "<class 'float'>\n"
     ]
    }
   ],
   "source": [
    "#Exercice 1\n",
    "1. #Écrire un programme, qui définit 3 variables : une variable de type texte, une variable de type\n",
    "#nombre entier, une variable de type nombre décimal et qui affiche leur type.\n",
    "\n",
    "variable_texte = \"Je suis une variable contenant du texte\"\n",
    "variable_nombre_entier = 27\n",
    "variable_decimal = 3.9\n",
    "\n",
    "print(type(variable_texte))\n",
    "print(type(variable_nombre_entier))\n",
    "print(type(variable_decimal))"
   ]
  },
  {
   "cell_type": "code",
   "execution_count": 4,
   "id": "b24eabd1",
   "metadata": {
    "ExecuteTime": {
     "end_time": "2022-09-16T08:14:05.758213Z",
     "start_time": "2022-09-16T08:14:05.746206Z"
    }
   },
   "outputs": [],
   "source": [
    "#Exercice 2\n",
    "#Affecter dans une même ligne les 3 variables précédemment définies.\n",
    "\n",
    "variable_texte, variable_nombre_entier, variable_decimal = \"Je suis une variable contenant du texte\", 27, 3.9"
   ]
  },
  {
   "cell_type": "code",
   "execution_count": 15,
   "id": "9deec371",
   "metadata": {
    "ExecuteTime": {
     "end_time": "2022-09-16T09:47:50.413216Z",
     "start_time": "2022-09-16T09:47:42.567218Z"
    }
   },
   "outputs": [
    {
     "name": "stdout",
     "output_type": "stream",
     "text": [
      " Rentrer le rayon15\n",
      " Rentrer la hauteur19\n",
      "Le volume de la sphère est :  4476.77\n"
     ]
    }
   ],
   "source": [
    "#Exercice 3\n",
    "#Cet exercice est sans rapport avec le précédent …\n",
    "#Écrire un programme qui, à partir de la saisie d’un rayon et d’une hauteur, calcule le volume d’un\n",
    "#cône droit : V =1/3 * π×r² * h\n",
    "#Comparer la précision de calcul avec votre calculatrice ou celle de l’ordinateur.\n",
    "\n",
    "import math\n",
    "r = float(input( \" Rentrer le rayon\"))\n",
    "h = float(input( \" Rentrer la hauteur\"))\n",
    "V = round((1/3 *(math.pi)*r*r*h),3)\n",
    "print(f\"Le volume de la sphère est : \" , V)"
   ]
  },
  {
   "cell_type": "code",
   "execution_count": 14,
   "id": "7de1def6",
   "metadata": {
    "ExecuteTime": {
     "end_time": "2022-09-16T09:46:33.511906Z",
     "start_time": "2022-09-16T09:46:24.543916Z"
    }
   },
   "outputs": [
    {
     "name": "stdout",
     "output_type": "stream",
     "text": [
      "Rentrer le rayon exterieur: 18\n",
      "Rentrer le rayon interieur: 2\n",
      "la surface du disque est 1005.31\n"
     ]
    }
   ],
   "source": [
    "#Exercice 4\n",
    "# Une machine découpe dans une plaque, des disques circulaires de rayon rExt, percés d’un trou\n",
    "# circulaire de rayon rInt avec rInt < rExt et ne débordant pas du disque.\n",
    "#Quelle est la surface d’un disque découpé ?\n",
    "\n",
    "h = 1\n",
    "rExt = float(input(\"Rentrer le rayon exterieur: \"))\n",
    "rint = float(input(\"Rentrer le rayon interieur: \"))\n",
    "SEXT = round(math.pi*rExt*rExt,3)\n",
    "SinT = round(math.pi*rint*rint*h,3)\n",
    "S = SEXT - SinT\n",
    "print (f\"la surface du disque est\" , S)"
   ]
  },
  {
   "cell_type": "code",
   "execution_count": 12,
   "id": "e2fa2803",
   "metadata": {
    "ExecuteTime": {
     "end_time": "2022-09-16T11:19:59.693890Z",
     "start_time": "2022-09-16T11:19:59.675937Z"
    }
   },
   "outputs": [
    {
     "name": "stdout",
     "output_type": "stream",
     "text": [
      " Le chat  +  3\n"
     ]
    }
   ],
   "source": [
    "#Exercice 5\n",
    "#Écrire un programme, qui ajoute une chaîne de caractères à un nombre entier (Exemple la chaîne\n",
    "#”le chat” et le nombre 3 pour donner le chat + 3).\n",
    "chaine = \" Le chat\"\n",
    "nombre = 3\n",
    "print( chaine, \" + \", nombre)"
   ]
  },
  {
   "cell_type": "code",
   "execution_count": 25,
   "id": "249eda1a",
   "metadata": {
    "ExecuteTime": {
     "end_time": "2022-09-16T11:40:44.446475Z",
     "start_time": "2022-09-16T11:40:35.703286Z"
    }
   },
   "outputs": [
    {
     "name": "stdout",
     "output_type": "stream",
     "text": [
      "Entrer le cote opposé15\n",
      "Entrer l'hypotenus16\n",
      "f l'angle du triangle rectangle est de :  69.63586519368219\n"
     ]
    }
   ],
   "source": [
    "#Exercice 6\n",
    "#Écrire un programme, qui donne la mesure de l’angle α d’un triangle rectangle, dont on saisit le\n",
    "#côté opposé et l’hypothénuse.\n",
    "#Rappel : sinφ = CoteOppose/Hypotenuse\n",
    "\n",
    "import math\n",
    "cote_oppose = float(input(\"Entrer le cote opposé:  \"))\n",
    "hypotenuse = float(input(\"Entrer l'hypotenus:  \"))\n",
    "omega = cote_oppose/hypotenuse\n",
    "print(\"f l'angle du triangle rectangle est de : \", degrees (asin(omega)))"
   ]
  },
  {
   "cell_type": "code",
   "execution_count": 27,
   "id": "ec5387e7",
   "metadata": {
    "ExecuteTime": {
     "end_time": "2022-09-16T11:57:56.061785Z",
     "start_time": "2022-09-16T11:57:48.038395Z"
    }
   },
   "outputs": [
    {
     "name": "stdout",
     "output_type": "stream",
     "text": [
      "Saisir un nombre : 1974525523355120268\n",
      "<class 'str'>\n"
     ]
    }
   ],
   "source": [
    "#Exercice 7\n",
    "#Écrire un programme qui réalise la saisie d’un nombre entier puis affiche la valeur ainsi saisie et son\n",
    "#type\n",
    "nombre = input(\"Saisir un nombre : \")\n",
    "print(type(nombre))"
   ]
  },
  {
   "cell_type": "code",
   "execution_count": 34,
   "id": "39d9f1a5",
   "metadata": {
    "ExecuteTime": {
     "end_time": "2022-09-16T12:08:35.445525Z",
     "start_time": "2022-09-16T12:08:31.572653Z"
    }
   },
   "outputs": [
    {
     "name": "stdout",
     "output_type": "stream",
     "text": [
      "saisir valeur 1 : 19\n",
      "saisir valeur 2 : 48\n",
      " La valeur 1 est la plus petit\n"
     ]
    }
   ],
   "source": [
    "#Exercice 7\n",
    "#Écrire un programme min_max.py, qui demande de saisir 2 valeurs et qui affiche la plus petite des 2\n",
    "#valeurs.\n",
    "valeur_1 = int(input(\"saisir valeur 1 : \"))\n",
    "valeur_2 = int(input(\"saisir valeur 2 : \"))\n",
    "\n",
    "if (valeur_1 < valeur_2):\n",
    "    print(\" La valeur 1 est la plus petit\")\n",
    "else:\n",
    "    print(\"\\nLa valeur 2 est la plus petite\")"
   ]
  },
  {
   "cell_type": "code",
   "execution_count": 40,
   "id": "df14b2a9",
   "metadata": {
    "ExecuteTime": {
     "end_time": "2022-09-16T12:25:22.153186Z",
     "start_time": "2022-09-16T12:24:57.131099Z"
    }
   },
   "outputs": [
    {
     "name": "stdout",
     "output_type": "stream",
     "text": [
      "entrer une chaine de caractère : moi je suis d'ici et d'ailleurs \n",
      "entrer une chaine de caractère : et vous d'où etes vous ?\n",
      "La chaine 1 est plus grande que la chaine 2\n"
     ]
    }
   ],
   "source": [
    "#Exercice 8\n",
    "#. Écrire un script longeur_chaine.py, qui demande de saisir 2 chaînes de caractères et qui affiche la\n",
    "#plus grande des 2 chaînes (celle qui a le plus de caractères).\n",
    "chaine_1 = str(input(\"entrer une chaine de caractère : \"))\n",
    "chaine_2 = str(input(\"entrer une chaine de caractère : \"))\n",
    "longueur_chaine1 = len(chaine_1)\n",
    "longueur_chaine2 = len(chaine_2)\n",
    "\n",
    "if len(chaine_1) > len(chaine_2):\n",
    "    print (\"La chaine 1 est plus grande que la chaine 2\")\n",
    "else: \n",
    "    print(\"La chaine 2 est plus petite que la chaine 1\")"
   ]
  },
  {
   "cell_type": "code",
   "execution_count": 65,
   "id": "6a98fc42",
   "metadata": {
    "ExecuteTime": {
     "end_time": "2022-09-16T13:43:35.308551Z",
     "start_time": "2022-09-16T13:43:35.286607Z"
    }
   },
   "outputs": [
    {
     "name": "stdout",
     "output_type": "stream",
     "text": [
      "je dois ranger mon bureau\n",
      "je dois ranger mon bureau\n",
      "je dois ranger mon bureau\n",
      "je dois ranger mon bureau\n",
      "je dois ranger mon bureau\n",
      "je dois ranger mon bureau\n",
      "je dois ranger mon bureau\n",
      "je dois ranger mon bureau\n",
      "je dois ranger mon bureau\n",
      "je dois ranger mon bureau\n",
      "je dois ranger mon bureau\n",
      "je dois ranger mon bureau\n",
      "je dois ranger mon bureau\n",
      "je dois ranger mon bureau\n",
      "je dois ranger mon bureau\n",
      "je dois ranger mon bureau\n",
      "je dois ranger mon bureau\n",
      "je dois ranger mon bureau\n",
      "je dois ranger mon bureau\n",
      "je dois ranger mon bureau\n",
      "je dois ranger mon bureau\n",
      "je dois ranger mon bureau\n",
      "je dois ranger mon bureau\n",
      "je dois ranger mon bureau\n",
      "je dois ranger mon bureau\n",
      "je dois ranger mon bureau\n",
      "je dois ranger mon bureau\n",
      "je dois ranger mon bureau\n",
      "je dois ranger mon bureau\n",
      "je dois ranger mon bureau\n",
      "je dois ranger mon bureau\n",
      "je dois ranger mon bureau\n",
      "je dois ranger mon bureau\n",
      "je dois ranger mon bureau\n",
      "je dois ranger mon bureau\n",
      "je dois ranger mon bureau\n",
      "je dois ranger mon bureau\n",
      "je dois ranger mon bureau\n",
      "je dois ranger mon bureau\n",
      "je dois ranger mon bureau\n",
      "je dois ranger mon bureau\n",
      "je dois ranger mon bureau\n",
      "je dois ranger mon bureau\n",
      "je dois ranger mon bureau\n",
      "je dois ranger mon bureau\n",
      "je dois ranger mon bureau\n",
      "je dois ranger mon bureau\n",
      "je dois ranger mon bureau\n",
      "je dois ranger mon bureau\n"
     ]
    }
   ],
   "source": [
    "#Exercice 9\n",
    "#Écrire un programme, qui affiche 50 fois ”Je dois ranger mon bureau” à l’aide de l’instruction for \n",
    "for i in range(1,50):\n",
    "    print(\"je dois ranger mon bureau\")\n",
    "    "
   ]
  },
  {
   "cell_type": "code",
   "execution_count": 67,
   "id": "e567fd71",
   "metadata": {
    "ExecuteTime": {
     "end_time": "2022-09-16T13:54:43.742500Z",
     "start_time": "2022-09-16T13:54:43.727537Z"
    }
   },
   "outputs": [
    {
     "data": {
      "text/plain": [
       "'c*h*a*n*t*e*r* *s*u*r* *u*n* *a*i*r* *d*e* *m*o*z*a*r*t'"
      ]
     },
     "execution_count": 67,
     "metadata": {},
     "output_type": "execute_result"
    }
   ],
   "source": [
    "#Exercice 10\n",
    "\n",
    "#Écrivez un script qui recopie une chaîne (dans une nouvelle variable), en insérant des astérisques entre les caractères.\n",
    "#Par exemple, « gaston » devra devenir « g*a*s*t*o*n »\n",
    "\n",
    "chaine = \"chanter sur un air de mozart\"\n",
    "\"*\".join(chaine)"
   ]
  },
  {
   "cell_type": "code",
   "execution_count": 70,
   "id": "a12685f9",
   "metadata": {
    "ExecuteTime": {
     "end_time": "2022-09-16T14:03:52.877230Z",
     "start_time": "2022-09-16T14:03:52.865263Z"
    }
   },
   "outputs": [
    {
     "data": {
      "text/plain": [
       "'b u l g r o z'"
      ]
     },
     "execution_count": 70,
     "metadata": {},
     "output_type": "execute_result"
    }
   ],
   "source": [
    "#Exercice 11\n",
    "\n",
    "#Écrivez un script qui recopie une chaîne (dans une nouvelle variable) en l'inversant. Par exemple, « zorglub » deviendra « bulgroz ».\n",
    "chaine = \"zorglub\"\n",
    "reversed(chaine)\n",
    "\"\".join(reversed(chaine))"
   ]
  },
  {
   "cell_type": "code",
   "execution_count": 82,
   "id": "b2685b32",
   "metadata": {
    "ExecuteTime": {
     "end_time": "2022-09-16T14:49:00.646364Z",
     "start_time": "2022-09-16T14:49:00.621428Z"
    }
   },
   "outputs": [
    {
     "name": "stdout",
     "output_type": "stream",
     "text": [
      "010\n"
     ]
    }
   ],
   "source": [
    "#Exercice 12\n",
    "#pour utiliser le zfill il faut que la chaine soit un string\n",
    "chaine = \"10\"\n",
    "print(chaine.zfill(3))"
   ]
  },
  {
   "cell_type": "code",
   "execution_count": 14,
   "id": "de27b2c3",
   "metadata": {
    "ExecuteTime": {
     "end_time": "2022-09-19T09:39:03.948109Z",
     "start_time": "2022-09-19T09:38:56.246686Z"
    }
   },
   "outputs": [
    {
     "name": "stdout",
     "output_type": "stream",
     "text": [
      "Donnez la valeur de l'angle en degré: 65\n",
      "Donnez la valeur en minutes: 47\n",
      "Donnez la valeur en seconde: 28\n",
      "\n",
      "La vonversion de 65 ° 47 min 28 sec donne 1.148 radian\n"
     ]
    }
   ],
   "source": [
    "#Exercice13\n",
    "#Écrivez un programme qui convertit en radians un angle fourni au départ en degrés, minutes, secondes.\n",
    "# On sait que un radian = 360°/2pi soit 180° /pi\n",
    "import math\n",
    "\n",
    "angle = int(input(\"Donnez la valeur de l'angle en degré: \"))\n",
    "minutes = int(input(\"Donnez la valeur en minutes: \"))\n",
    "secondes = int(input(\"Donnez la valeur en seconde: \"))\n",
    "\n",
    "#Conversions \n",
    "#1- convertir les secondes en minutes\n",
    "seconde_en_minute = seconde/60\n",
    "#2- convertir les minutes en angle\n",
    "minutes_en_angle = (seconde_en_minute + minutes)/60\n",
    "#3- angle en degré\n",
    "angle_en_degre = angle + minutes_en_angle\n",
    "\n",
    "# convertir les angles en radian\n",
    "#on sait que:\n",
    "radian = 180/math.pi\n",
    "angle_en_radian = angle_en_degre/radian\n",
    "\n",
    "print(f\"\\nLa vonversion de\", angle,\"°\",minutes,\"min\",secondes,\"sec\",  \"donne\", round(angle_en_radian,3),\"radian\" )"
   ]
  },
  {
   "cell_type": "code",
   "execution_count": 25,
   "id": "9691d34c",
   "metadata": {
    "ExecuteTime": {
     "end_time": "2022-09-19T10:04:33.777472Z",
     "start_time": "2022-09-19T10:04:33.768496Z"
    }
   },
   "outputs": [
    {
     "data": {
      "text/plain": [
       "3"
      ]
     },
     "execution_count": 25,
     "metadata": {},
     "output_type": "execute_result"
    }
   ],
   "source": [
    "# Exercice14\n",
    "# Écrire une fonction nombre_chiffres prenant en paramètre deux entiers positifs nombre et chiffre, ce dernier étant compris entre 0 et 9.\n",
    "# La fonction doit renvoyer le nombre de fois où apparait le chiffre dans la composition du nombre.\n",
    "\n",
    "# >>> nombre_chiffres(111222, 2) \n",
    "# 3 \n",
    "# >>> nombre_chiffres(100000, 0) \n",
    "# 5 \n",
    "# >>> nombre_chiffres(65535, 5) \n",
    "# 3 \n",
    "# >>> nombre_chiffres(31415927, 8) \n",
    "# 0 \n",
    "# >>> nombre_chiffres(5, 5) \n",
    "# 1 \n",
    "# >>> nombre_chiffres(0, 0) \n",
    "# 1\n",
    "\n",
    "\n",
    "def nombre_chiffres(nombre, chiffre):\n",
    "    return str(nombre).count(str(chiffre))\n",
    "\n",
    "# Combien de fois apparait le chiffre 5 dans ce nombre\n",
    "nombre_chiffres(65535, 5) "
   ]
  },
  {
   "cell_type": "code",
   "execution_count": 38,
   "id": "246fbdeb",
   "metadata": {
    "ExecuteTime": {
     "end_time": "2022-09-19T14:10:42.298825Z",
     "start_time": "2022-09-19T14:10:42.277884Z"
    }
   },
   "outputs": [
    {
     "name": "stdout",
     "output_type": "stream",
     "text": [
      "2 + 3 + 4\n"
     ]
    }
   ],
   "source": [
    "#Exercice14\n",
    "a = 2\n",
    "b = 3\n",
    "c = 4\n",
    "print((\" + \").join(str(a) + str(b) + str(c)))"
   ]
  },
  {
   "cell_type": "code",
   "execution_count": 46,
   "id": "b6c2a363",
   "metadata": {
    "ExecuteTime": {
     "end_time": "2022-09-19T14:39:28.329590Z",
     "start_time": "2022-09-19T14:39:28.310634Z"
    }
   },
   "outputs": [
    {
     "name": "stdout",
     "output_type": "stream",
     "text": [
      "4\n"
     ]
    }
   ],
   "source": [
    "#Exercice15\n",
    "lettre_a_chercher = \"o\"\n",
    "phrase = \"Bonjour tout le monde\"\n",
    "resultat = phrase.lower().count(lettre_a_chercher)\n",
    "print(resultat)"
   ]
  },
  {
   "cell_type": "code",
   "execution_count": 50,
   "id": "e7589ac6",
   "metadata": {
    "ExecuteTime": {
     "end_time": "2022-09-19T14:42:15.039817Z",
     "start_time": "2022-09-19T14:42:15.020868Z"
    }
   },
   "outputs": [
    {
     "name": "stdout",
     "output_type": "stream",
     "text": [
      "4\n"
     ]
    }
   ],
   "source": [
    "#Exercice16\n",
    "lorem = \"\"\"Lorem ipsum dolor sit amet, consectetur adipiscing elit, sed do eiusmod tempor incididunt ut labore et dolore magna aliqua.\n",
    "\t\t   Ut enim ad minim veniam, quis nostrud exercitation ullamco laboris nisi ut aliquip ex ea commodo consequat.\n",
    "\t\t   Duis aute irure dolor in reprehenderit in voluptate velit esse cillum dolore eu fugiat nulla pariatur.\n",
    "\t\t   Excepteur sint occaecat cupidatat non proident, sunt in culpa qui officia deserunt mollit anim id est laborum.\"\"\"\n",
    "\t\t   \n",
    "resultat = lorem.count(\".\")\n",
    "print(resultat)"
   ]
  },
  {
   "cell_type": "code",
   "execution_count": 60,
   "id": "5c0dcb10",
   "metadata": {
    "ExecuteTime": {
     "end_time": "2022-09-19T14:55:49.506014Z",
     "start_time": "2022-09-19T14:55:49.495042Z"
    }
   },
   "outputs": [
    {
     "name": "stdout",
     "output_type": "stream",
     "text": [
      "Anne, Julien, Lucien, Marie, Pierre\n"
     ]
    }
   ],
   "source": [
    "#Exercice17\n",
    "# Le but de cet exercice et de remettre en ordre alphabétique les prénoms présents dans la chaîne de caractères.\n",
    "\n",
    "# Vous devez créer une variable chaine_en_ordre qui, à la fin de l'exercice, doit contenir la chaîne de caractères suivante :\n",
    "\n",
    "# Anne, Julien, Lucien, Marie, Pierre\n",
    "\n",
    "chaine = \"Pierre, Julien, Anne, Marie, Lucien\"\n",
    "resultat = \", \".join(sorted(chaine.split(\", \")))\n",
    "print(resultat)"
   ]
  },
  {
   "cell_type": "code",
   "execution_count": null,
   "id": "7f8165f8",
   "metadata": {},
   "outputs": [],
   "source": []
  }
 ],
 "metadata": {
  "kernelspec": {
   "display_name": "Python 3",
   "language": "python",
   "name": "python3"
  },
  "language_info": {
   "codemirror_mode": {
    "name": "ipython",
    "version": 3
   },
   "file_extension": ".py",
   "mimetype": "text/x-python",
   "name": "python",
   "nbconvert_exporter": "python",
   "pygments_lexer": "ipython3",
   "version": "3.8.8"
  },
  "toc": {
   "base_numbering": 1,
   "nav_menu": {},
   "number_sections": true,
   "sideBar": true,
   "skip_h1_title": false,
   "title_cell": "Table of Contents",
   "title_sidebar": "Contents",
   "toc_cell": false,
   "toc_position": {},
   "toc_section_display": true,
   "toc_window_display": false
  }
 },
 "nbformat": 4,
 "nbformat_minor": 5
}
