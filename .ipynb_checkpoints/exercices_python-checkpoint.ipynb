{
 "cells": [
  {
   "cell_type": "code",
   "execution_count": 1,
   "id": "f96a3a57",
   "metadata": {
    "ExecuteTime": {
     "end_time": "2022-09-16T07:56:18.261646Z",
     "start_time": "2022-09-16T07:56:18.244691Z"
    }
   },
   "outputs": [
    {
     "name": "stdout",
     "output_type": "stream",
     "text": [
      "<class 'str'>\n",
      "<class 'int'>\n",
      "<class 'float'>\n"
     ]
    }
   ],
   "source": [
    "#Exercice 1\n",
    "1. #Écrire un programme, qui définit 3 variables : une variable de type texte, une variable de type\n",
    "#nombre entier, une variable de type nombre décimal et qui affiche leur type.\n",
    "\n",
    "variable_texte = \"Je suis une variable contenant du texte\"\n",
    "variable_nombre_entier = 27\n",
    "variable_decimal = 3.9\n",
    "\n",
    "print(type(variable_texte))\n",
    "print(type(variable_nombre_entier))\n",
    "print(type(variable_decimal))"
   ]
  },
  {
   "cell_type": "code",
   "execution_count": 4,
   "id": "ad57bf41",
   "metadata": {
    "ExecuteTime": {
     "end_time": "2022-09-16T08:14:05.758213Z",
     "start_time": "2022-09-16T08:14:05.746206Z"
    }
   },
   "outputs": [],
   "source": [
    "#Exercice 2\n",
    "#Affecter dans une même ligne les 3 variables précédemment définies.\n",
    "\n",
    "variable_texte, variable_nombre_entier, variable_decimal = \"Je suis une variable contenant du texte\", 27, 3.9"
   ]
  },
  {
   "cell_type": "code",
   "execution_count": 11,
   "id": "3afd43ae",
   "metadata": {
    "ExecuteTime": {
     "end_time": "2022-09-16T09:17:48.837997Z",
     "start_time": "2022-09-16T09:17:46.239547Z"
    }
   },
   "outputs": [
    {
     "name": "stdout",
     "output_type": "stream",
     "text": [
      " Rentrer le rayon6\n",
      " Rentrer la hauteur9\n",
      "339.292\n"
     ]
    }
   ],
   "source": [
    "#Cet exercice est sans rapport avec le précédent …\n",
    "#Écrire un programme qui, à partir de la saisie d’un rayon et d’une hauteur, calcule le volume d’un\n",
    "#cône droit : V =1/3 * π×r² * h\n",
    "#Comparer la précision de calcul avec votre calculatrice ou celle de l’ordinateur.\n",
    "\n",
    "import math\n",
    "r = float(input( \" Rentrer le rayon\"))\n",
    "h = float(input( \" Rentrer la hauteur\"))\n",
    "V = round((1/3 *(math.pi)*r*r*h),3)\n",
    "print(V)"
   ]
  },
  {
   "cell_type": "code",
   "execution_count": 9,
   "id": "db64cabd",
   "metadata": {
    "ExecuteTime": {
     "end_time": "2022-09-16T09:16:04.407283Z",
     "start_time": "2022-09-16T09:16:04.391613Z"
    }
   },
   "outputs": [
    {
     "name": "stdout",
     "output_type": "stream",
     "text": [
      "3.141592653589793\n"
     ]
    }
   ],
   "source": [
    "print(math.pi)"
   ]
  },
  {
   "cell_type": "code",
   "execution_count": null,
   "id": "44f34dbe",
   "metadata": {},
   "outputs": [],
   "source": []
  }
 ],
 "metadata": {
  "kernelspec": {
   "display_name": "Python 3",
   "language": "python",
   "name": "python3"
  },
  "language_info": {
   "codemirror_mode": {
    "name": "ipython",
    "version": 3
   },
   "file_extension": ".py",
   "mimetype": "text/x-python",
   "name": "python",
   "nbconvert_exporter": "python",
   "pygments_lexer": "ipython3",
   "version": "3.8.8"
  },
  "toc": {
   "base_numbering": 1,
   "nav_menu": {},
   "number_sections": true,
   "sideBar": true,
   "skip_h1_title": false,
   "title_cell": "Table of Contents",
   "title_sidebar": "Contents",
   "toc_cell": false,
   "toc_position": {},
   "toc_section_display": true,
   "toc_window_display": false
  }
 },
 "nbformat": 4,
 "nbformat_minor": 5
}
