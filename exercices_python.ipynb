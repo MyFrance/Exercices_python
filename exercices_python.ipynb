{
 "cells": [
  {
   "cell_type": "code",
   "execution_count": 1,
   "id": "c7561c6d",
   "metadata": {
    "ExecuteTime": {
     "end_time": "2022-09-16T07:56:18.261646Z",
     "start_time": "2022-09-16T07:56:18.244691Z"
    }
   },
   "outputs": [
    {
     "name": "stdout",
     "output_type": "stream",
     "text": [
      "<class 'str'>\n",
      "<class 'int'>\n",
      "<class 'float'>\n"
     ]
    }
   ],
   "source": [
    "#Exercice 1\n",
    "1. #Écrire un programme, qui définit 3 variables : une variable de type texte, une variable de type\n",
    "#nombre entier, une variable de type nombre décimal et qui affiche leur type.\n",
    "\n",
    "variable_texte = \" Je suis une variable contenant du texte\"\n",
    "variable_nombre_entier = 27\n",
    "variable_decimal = 3.9\n",
    "\n",
    "print(type(variable_texte))\n",
    "print(type(variable_nombre_entier))\n",
    "print(type(variable_decimal))"
   ]
  },
  {
   "cell_type": "code",
   "execution_count": null,
   "id": "f059d221",
   "metadata": {},
   "outputs": [],
   "source": []
  }
 ],
 "metadata": {
  "kernelspec": {
   "display_name": "Python 3",
   "language": "python",
   "name": "python3"
  },
  "language_info": {
   "codemirror_mode": {
    "name": "ipython",
    "version": 3
   },
   "file_extension": ".py",
   "mimetype": "text/x-python",
   "name": "python",
   "nbconvert_exporter": "python",
   "pygments_lexer": "ipython3",
   "version": "3.8.8"
  },
  "toc": {
   "base_numbering": 1,
   "nav_menu": {},
   "number_sections": true,
   "sideBar": true,
   "skip_h1_title": false,
   "title_cell": "Table of Contents",
   "title_sidebar": "Contents",
   "toc_cell": false,
   "toc_position": {},
   "toc_section_display": true,
   "toc_window_display": false
  }
 },
 "nbformat": 4,
 "nbformat_minor": 5
}
